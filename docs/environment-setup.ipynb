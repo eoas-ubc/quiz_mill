{
 "cells": [
  {
   "cell_type": "markdown",
   "id": "d28c8784",
   "metadata": {},
   "source": [
    "# Environment setup\n",
    "If you are running on your own machine, you may want to set up a local environment. The below instructions assume you are going to be using conda.\n",
    "\n",
    "---\n",
    "## Before you start\n",
    "Know the basics of Conda (see [here](https://docs.conda.io/en/latest/)).\n",
    "\n",
    "## Install Conda\n",
    "- macOS users: [Installing on macOS](https://docs.conda.io/projects/conda/en/latest/user-guide/install/macos.html)\n",
    "- Windows users: [Installing on Windows](https://docs.conda.io/projects/conda/en/latest/user-guide/install/windows.html)\n",
    "- Linux users: [Installing on Linux](https://docs.conda.io/projects/conda/en/latest/user-guide/install/linux.html)\n",
    "\n",
    "## Creating the environment from the environment.yml file\n",
    "1. Open your terminal\n",
    "2. `cd` to the outermost quiz_mill/ folder\n",
    "3. Enter the following command in your terminal: ```$ conda create```\n",
    "4. Activate the environment: ```$ conda activate quiz-mill``` \n",
    "\n",
    "## Installing the command-line utilities\n",
    "To use commands like `filter-notebook` and `generate-notebooks`, we need to install them first.\n",
    "\n",
    "1. `cd` to the outermost quiz_mill/ folder\n",
    "2. Enter the following code into the terminal:  \n",
    "```$ pip install .```"
   ]
  }
 ],
 "metadata": {
  "kernelspec": {
   "display_name": "Python 3",
   "language": "python",
   "name": "python3"
  },
  "language_info": {
   "codemirror_mode": {
    "name": "ipython",
    "version": 3
   },
   "file_extension": ".py",
   "mimetype": "text/x-python",
   "name": "python",
   "nbconvert_exporter": "python",
   "pygments_lexer": "ipython3",
   "version": "3.8.10"
  }
 },
 "nbformat": 4,
 "nbformat_minor": 5
}
