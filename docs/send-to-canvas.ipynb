{
 "cells": [
  {
   "cell_type": "markdown",
   "id": "a426f832",
   "metadata": {},
   "source": [
    "# Send to Canvas\n",
    "Bash script to send \"filtered\" solution markdown files to Canvas.\n",
    "\n",
    "## Running the script\n",
    "\n",
    "Preconditions:  \n",
    "1. Canvas API token is in a file called token.yaml in project home directory.\n",
    "2. Command is run from the project home directory "
   ]
  },
  {
   "cell_type": "code",
   "execution_count": null,
   "id": "f9ef0ea9",
   "metadata": {},
   "outputs": [],
   "source": [
    "%%bash\n",
    "sh ../quiz_mill/send_to_canvas.sh"
   ]
  },
  {
   "cell_type": "markdown",
   "id": "aa52b23d",
   "metadata": {},
   "source": [
    "## How the script works\n",
    "1. Gets all \"filtered\" solution markdown files in **notebooks/output/filtered/solution/**\n",
    "2. Send each \"filtered\" solution markdown file to Canvas\n",
    "```\n",
    "files=`ls notebooks/output/filtered/solution/*md`\n",
    "for file in $files\n",
    "do\n",
    "    md2canvas $file -f token.yml -c 51824 -u https://canvas.ubc.ca -s\n",
    "done\n",
    "```"
   ]
  }
 ],
 "metadata": {
  "jupytext": {
   "text_representation": {
    "extension": ".md",
    "format_name": "myst",
    "format_version": 0.13,
    "jupytext_version": "1.10.3"
   }
  },
  "kernelspec": {
   "display_name": "Python 3",
   "language": "python",
   "name": "python3"
  },
  "language_info": {
   "codemirror_mode": {
    "name": "ipython",
    "version": 3
   },
   "file_extension": ".py",
   "mimetype": "text/x-python",
   "name": "python",
   "nbconvert_exporter": "python",
   "pygments_lexer": "ipython3",
   "version": "3.8.10"
  }
 },
 "nbformat": 4,
 "nbformat_minor": 5
}
