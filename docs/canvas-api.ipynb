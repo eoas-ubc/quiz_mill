{
 "cells": [
  {
   "cell_type": "markdown",
   "metadata": {},
   "source": [
    "# Getting the Canvas API token\n",
    "Your Canvas API token is used to send your quizzes to Canvas."
   ]
  },
  {
   "attachments": {},
   "cell_type": "markdown",
   "metadata": {},
   "source": [
    "### Steps\n",
    "1. Go to user settings\n",
    "<img src=\"user_settings.png\" alt=\"user settings\" width=\"300\"/>\n",
    "2. Scroll down to `Approved Integrations` section of page\n",
    "<img src=\"approved_integrations.png\" alt=\"approved integrations\" width=\"500\"/>\n",
    "3. Click on `+ New Access Token`\n",
    "<img src=\"token_button.png\" alt=\"new access token button\" width=\"500\"/>\n",
    "4. Give your token an appropriate name, don't set an expiry date and hit `Generate Token`\n",
    "<img src=\"generate_token.png\" alt=\"generate token\" width=\"300\"/>\n",
    "- a pop-up looking like this should come up:\n",
    "\n",
    "<img src=\"generated_token.png\" alt=\"generated token\" width=\"400\"/>\n",
    "\n",
    "- copy all of the text in `Token:` and paste it into the local `token.yaml` file and you're done!  \n",
    "  \n",
    "Credit: https://github.com/phaustin/eoas-wl/tree/main/canvas-api"
   ]
  }
 ],
 "metadata": {
  "jupytext": {
   "formats": "ipynb,md:myst"
  },
  "kernelspec": {
   "display_name": "Python 3",
   "language": "python",
   "name": "python3"
  },
  "language_info": {
   "codemirror_mode": {
    "name": "ipython",
    "version": 3
   },
   "file_extension": ".py",
   "mimetype": "text/x-python",
   "name": "python",
   "nbconvert_exporter": "python",
   "pygments_lexer": "ipython3",
   "version": "3.8.10"
  }
 },
 "nbformat": 4,
 "nbformat_minor": 4
}
