{
 "cells": [
  {
   "cell_type": "markdown",
   "id": "cc30a119",
   "metadata": {},
   "source": [
    "# Workflow"
   ]
  },
  {
   "cell_type": "markdown",
   "id": "eab31da2",
   "metadata": {},
   "source": [
    "## Skip the details\n",
    "Specify the number of quizzes you would like the generate and run the cell below. Note: cell takes some time to run."
   ]
  },
  {
   "cell_type": "code",
   "execution_count": null,
   "id": "f4fd421d",
   "metadata": {},
   "outputs": [],
   "source": [
    "%%bash\n",
    "NUM=5\n",
    "sh do_all.sh $NUM"
   ]
  },
  {
   "cell_type": "markdown",
   "id": "c71dd90e",
   "metadata": {},
   "source": [
    "### Expected Output\n",
    "Specified number of quizzes should be under Quizzes section in Andrew & Harlan Sandbox.\n",
    "![quizzes on Canvas](canvas_quizzes.png)"
   ]
  },
  {
   "cell_type": "markdown",
   "id": "90a7fd07",
   "metadata": {},
   "source": [
    "## The details\n",
    "\n",
    "### Setup\n",
    "\n",
    "#### Obtain a Canvas API token\n",
    "See step 1 of [this Canvas API tutorial](canvas_api.ipynb) and place ```token.yaml``` file in outer ```quiz_mill/``` directory.\n",
    "\n",
    "#### The base notebook\n",
    "This is the notebook that all generated notebooks will be based off of. All scripts currently specifically tailored to **two_layers.ipynb**.\n",
    "\n",
    "![two layers screenshot](two_layers_screenshot.png)"
   ]
  },
  {
   "cell_type": "markdown",
   "id": "a17d9dfc",
   "metadata": {},
   "source": [
    "### Steps\n",
    "#### 1. Remove all Two Layers quizzes from Canvas"
   ]
  },
  {
   "cell_type": "code",
   "execution_count": null,
   "id": "de286608",
   "metadata": {},
   "outputs": [],
   "source": [
    "%%bash\n",
    "python ../quiz_mill/remove_quizzes.py"
   ]
  },
  {
   "cell_type": "markdown",
   "id": "92cb6c5d",
   "metadata": {},
   "source": [
    "Read more [here](remove_quizzes.ipynb).   \n",
    "\n",
    "#### 2. Remove all files from output/ folder"
   ]
  },
  {
   "cell_type": "code",
   "execution_count": null,
   "id": "f52eef6d",
   "metadata": {},
   "outputs": [],
   "source": [
    "%%bash\n",
    "find ../notebooks/output/ -type f -exec rm -v {} \\;"
   ]
  },
  {
   "cell_type": "markdown",
   "id": "1b7af122",
   "metadata": {},
   "source": [
    "#### 3. Generate *n* notebooks with random parameters\n",
    "The below command generates 10 notebooks with random parameters.  "
   ]
  },
  {
   "cell_type": "code",
   "execution_count": null,
   "id": "01b5d244",
   "metadata": {},
   "outputs": [],
   "source": [
    "%%bash\n",
    "NUM=10\n",
    "python ../quiz_mill/generate_notebooks.py -n $NUM"
   ]
  },
  {
   "cell_type": "markdown",
   "id": "440f3e1c",
   "metadata": {},
   "source": [
    "Read more [here](generate_notebooks.ipynb).\n",
    "\n",
    "#### 4. Filter notebooks into student and solution notebooks"
   ]
  },
  {
   "cell_type": "code",
   "execution_count": null,
   "id": "55f4fe61",
   "metadata": {},
   "outputs": [],
   "source": [
    "%%bash\n",
    "filter-notebook ../notebooks/output/unfiltered/ ../notebooks/output/filtered/"
   ]
  },
  {
   "cell_type": "markdown",
   "id": "07c57133",
   "metadata": {},
   "source": [
    "Read more [here](filter_notebook.md).\n",
    "#### 5. Send filtered solution notebooks as quizzes to Canvas"
   ]
  },
  {
   "cell_type": "code",
   "execution_count": null,
   "id": "8b86d53e",
   "metadata": {},
   "outputs": [],
   "source": [
    "%%bash\n",
    "sh ../quiz_mill/send_to_canvas.sh"
   ]
  },
  {
   "cell_type": "markdown",
   "id": "2bfc02f5",
   "metadata": {},
   "source": [
    "Note: requires Canvas API token to run.\n",
    "\n",
    "Read more [here](send_to_canvas.md)."
   ]
  }
 ],
 "metadata": {
  "kernelspec": {
   "display_name": "Python 3",
   "language": "python",
   "name": "python3"
  },
  "language_info": {
   "codemirror_mode": {
    "name": "ipython",
    "version": 3
   },
   "file_extension": ".py",
   "mimetype": "text/x-python",
   "name": "python",
   "nbconvert_exporter": "python",
   "pygments_lexer": "ipython3",
   "version": "3.8.10"
  }
 },
 "nbformat": 4,
 "nbformat_minor": 5
}
