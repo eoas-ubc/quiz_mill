{
 "cells": [
  {
   "cell_type": "markdown",
   "id": "cc30a119",
   "metadata": {},
   "source": [
    "# Workflow"
   ]
  },
  {
   "cell_type": "markdown",
   "id": "eab31da2",
   "metadata": {},
   "source": [
    "## Skip the details\n",
    "Specify the number of quizzes you would like the generate and run the cell below. Note: cell takes some time to run."
   ]
  },
  {
   "cell_type": "code",
   "execution_count": 1,
   "id": "f4fd421d",
   "metadata": {},
   "outputs": [
    {
     "name": "stdout",
     "output_type": "stream",
     "text": [
      "Removed Two Layers quizzes from Canvas\n",
      "Removed previous output notebooks\n",
      "Generated notebooks with random parameters\n",
      "Generated notebooks have been filtered\n",
      "Parsing the quiz at ../notebooks/output/filtered/solution/output_two_layers1_solution.md\n",
      "Uploading quiz to Canvas with following settings:\n",
      "  URL = https://canvas.ubc.ca\n",
      "  Token = 1122**************************************************************3h8m\n",
      "  Course ID = 51824\n",
      "Parsing the quiz at ../notebooks/output/filtered/solution/output_two_layers2_solution.md\n",
      "Uploading quiz to Canvas with following settings:\n",
      "  URL = https://canvas.ubc.ca\n",
      "  Token = 1122**************************************************************3h8m\n",
      "  Course ID = 51824\n",
      "Parsing the quiz at ../notebooks/output/filtered/solution/output_two_layers3_solution.md\n",
      "Uploading quiz to Canvas with following settings:\n",
      "  URL = https://canvas.ubc.ca\n",
      "  Token = 1122**************************************************************3h8m\n",
      "  Course ID = 51824\n",
      "Parsing the quiz at ../notebooks/output/filtered/solution/output_two_layers4_solution.md\n",
      "Uploading quiz to Canvas with following settings:\n",
      "  URL = https://canvas.ubc.ca\n",
      "  Token = 1122**************************************************************3h8m\n",
      "  Course ID = 51824\n",
      "Parsing the quiz at ../notebooks/output/filtered/solution/output_two_layers5_solution.md\n",
      "Uploading quiz to Canvas with following settings:\n",
      "  URL = https://canvas.ubc.ca\n",
      "  Token = 1122**************************************************************3h8m\n",
      "  Course ID = 51824\n",
      "Quizzes sent to canvas\n"
     ]
    },
    {
     "name": "stderr",
     "output_type": "stream",
     "text": [
      "\r",
      "Executing:   0%|          | 0/7 [00:00<?, ?cell/s]\r",
      "Executing:  14%|█▍        | 1/7 [00:01<00:08,  1.36s/cell]\r",
      "Executing:  29%|██▊       | 2/7 [00:01<00:03,  1.31cell/s]\r",
      "Executing: 100%|██████████| 7/7 [00:02<00:00,  3.34cell/s]\n",
      "\r",
      "Executing:   0%|          | 0/7 [00:00<?, ?cell/s]\r",
      "Executing:  14%|█▍        | 1/7 [00:00<00:05,  1.18cell/s]\r",
      "Executing:  29%|██▊       | 2/7 [00:01<00:02,  2.18cell/s]\r",
      "Executing: 100%|██████████| 7/7 [00:01<00:00,  4.90cell/s]\n",
      "\r",
      "Executing:   0%|          | 0/7 [00:00<?, ?cell/s]\r",
      "Executing:  14%|█▍        | 1/7 [00:00<00:05,  1.10cell/s]\r",
      "Executing:  29%|██▊       | 2/7 [00:01<00:02,  2.05cell/s]\r",
      "Executing: 100%|██████████| 7/7 [00:01<00:00,  4.53cell/s]\n",
      "\r",
      "Executing:   0%|          | 0/7 [00:00<?, ?cell/s]\r",
      "Executing:  14%|█▍        | 1/7 [00:01<00:06,  1.13s/cell]\r",
      "Executing:  29%|██▊       | 2/7 [00:01<00:02,  1.74cell/s]\r",
      "Executing: 100%|██████████| 7/7 [00:01<00:00,  4.12cell/s]\n",
      "\r",
      "Executing:   0%|          | 0/7 [00:00<?, ?cell/s]\r",
      "Executing:  14%|█▍        | 1/7 [00:00<00:04,  1.21cell/s]\r",
      "Executing:  29%|██▊       | 2/7 [00:00<00:02,  2.32cell/s]\r",
      "Executing: 100%|██████████| 7/7 [00:01<00:00,  5.11cell/s]\n"
     ]
    }
   ],
   "source": [
    "%%bash\n",
    "NUM=5\n",
    "sh do_all.sh $NUM"
   ]
  },
  {
   "cell_type": "markdown",
   "id": "c71dd90e",
   "metadata": {},
   "source": [
    "### Expected Output\n",
    "Specified number of quizzes should be under Quizzes section in Andrew & Harlan Sandbox.\n",
    "![quizzes on Canvas](canvas_quizzes.png)"
   ]
  },
  {
   "cell_type": "markdown",
   "id": "90a7fd07",
   "metadata": {},
   "source": [
    "## The details\n",
    "\n",
    "### Setup\n",
    "\n",
    "#### Obtain a Canvas API token\n",
    "See step 1 of [this Canvas API tutorial](canvas_api.ipynb) and place ```token.yaml``` file in outer ```quiz_mill/``` directory.\n",
    "\n",
    "#### The base notebook\n",
    "This is the notebook that all generated notebooks will be based off of. All scripts currently specifically tailored to **two_layers.ipynb**.\n",
    "\n",
    "![two layers screenshot](two_layers_screenshot.png)"
   ]
  },
  {
   "cell_type": "markdown",
   "id": "a17d9dfc",
   "metadata": {},
   "source": [
    "### Steps\n",
    "#### 1. Remove all Two Layers quizzes from Canvas"
   ]
  },
  {
   "cell_type": "code",
   "execution_count": 2,
   "id": "de286608",
   "metadata": {},
   "outputs": [
    {
     "name": "stdout",
     "output_type": "stream",
     "text": [
      "Two Layers Quiz 2 (968212) deleted\n",
      "Two Layers Quiz 5 (968213) deleted\n",
      "Two Layers Quiz 3 (968214) deleted\n",
      "Two Layers Quiz 4 (968215) deleted\n",
      "Two Layers Quiz 1 (968216) deleted\n"
     ]
    }
   ],
   "source": [
    "%%bash\n",
    "python ../quiz_mill/remove_quizzes.py"
   ]
  },
  {
   "cell_type": "markdown",
   "id": "92cb6c5d",
   "metadata": {},
   "source": [
    "Read more [here](remove_quizzes.ipynb).   \n",
    "\n",
    "#### 2. Remove all files from output/ folder"
   ]
  },
  {
   "cell_type": "code",
   "execution_count": 13,
   "id": "f52eef6d",
   "metadata": {},
   "outputs": [
    {
     "name": "stdout",
     "output_type": "stream",
     "text": [
      "../notebooks/output//unfiltered/output_two_layers5.ipynb\n",
      "../notebooks/output//unfiltered/output_two_layers1.ipynb\n",
      "../notebooks/output//unfiltered/output_two_layers3.ipynb\n",
      "../notebooks/output//unfiltered/output_two_layers4.ipynb\n",
      "../notebooks/output//unfiltered/output_two_layers2.ipynb\n",
      "../notebooks/output//filtered/student/output_two_layers5_student.md\n",
      "../notebooks/output//filtered/student/output_two_layers5_student.ipynb\n",
      "../notebooks/output//filtered/student/output_two_layers2_student.md\n",
      "../notebooks/output//filtered/student/output_two_layers1_student.ipynb\n",
      "../notebooks/output//filtered/student/output_two_layers2_student.ipynb\n",
      "../notebooks/output//filtered/student/output_two_layers3_student.ipynb\n",
      "../notebooks/output//filtered/student/output_two_layers4_student.md\n",
      "../notebooks/output//filtered/student/output_two_layers1_student.md\n",
      "../notebooks/output//filtered/student/output_two_layers4_student.ipynb\n",
      "../notebooks/output//filtered/student/output_two_layers3_student.md\n",
      "../notebooks/output//filtered/solution/output_two_layers1_solution.md\n",
      "../notebooks/output//filtered/solution/output_two_layers5_solution.ipynb\n",
      "../notebooks/output//filtered/solution/output_two_layers2_solution.ipynb\n",
      "../notebooks/output//filtered/solution/output_two_layers3_solution.ipynb\n",
      "../notebooks/output//filtered/solution/output_two_layers4_solution.ipynb\n",
      "../notebooks/output//filtered/solution/output_two_layers4_solution.md\n",
      "../notebooks/output//filtered/solution/output_two_layers1_solution.ipynb\n",
      "../notebooks/output//filtered/solution/output_two_layers2_solution.md\n",
      "../notebooks/output//filtered/solution/output_two_layers5_solution.md\n",
      "../notebooks/output//filtered/solution/output_two_layers3_solution.md\n"
     ]
    }
   ],
   "source": [
    "%%bash\n",
    "find ../notebooks/output/ -type f -exec rm -v {} \\;"
   ]
  },
  {
   "cell_type": "markdown",
   "id": "1b7af122",
   "metadata": {},
   "source": [
    "#### 3. Generate *n* notebooks with random parameters\n",
    "The below command generates 5 notebooks with random parameters."
   ]
  },
  {
   "cell_type": "code",
   "execution_count": 11,
   "id": "01b5d244",
   "metadata": {},
   "outputs": [
    {
     "name": "stderr",
     "output_type": "stream",
     "text": [
      "\r",
      "Executing:   0%|          | 0/7 [00:00<?, ?cell/s]\r",
      "Executing:  14%|█▍        | 1/7 [00:01<00:10,  1.78s/cell]\r",
      "Executing:  29%|██▊       | 2/7 [00:02<00:04,  1.07cell/s]\r",
      "Executing: 100%|██████████| 7/7 [00:02<00:00,  2.77cell/s]\n",
      "\r",
      "Executing:   0%|          | 0/7 [00:00<?, ?cell/s]\r",
      "Executing:  14%|█▍        | 1/7 [00:01<00:06,  1.02s/cell]\r",
      "Executing:  29%|██▊       | 2/7 [00:01<00:02,  1.90cell/s]\r",
      "Executing: 100%|██████████| 7/7 [00:01<00:00,  4.36cell/s]\n",
      "\r",
      "Executing:   0%|          | 0/7 [00:00<?, ?cell/s]\r",
      "Executing:  14%|█▍        | 1/7 [00:00<00:05,  1.10cell/s]\r",
      "Executing:  29%|██▊       | 2/7 [00:01<00:02,  2.10cell/s]\r",
      "Executing: 100%|██████████| 7/7 [00:01<00:00,  4.76cell/s]\n",
      "\r",
      "Executing:   0%|          | 0/7 [00:00<?, ?cell/s]\r",
      "Executing:  14%|█▍        | 1/7 [00:01<00:06,  1.04s/cell]\r",
      "Executing:  29%|██▊       | 2/7 [00:01<00:02,  1.89cell/s]\r",
      "Executing: 100%|██████████| 7/7 [00:01<00:00,  4.34cell/s]\n",
      "\r",
      "Executing:   0%|          | 0/7 [00:00<?, ?cell/s]\r",
      "Executing:  14%|█▍        | 1/7 [00:01<00:06,  1.02s/cell]\r",
      "Executing:  29%|██▊       | 2/7 [00:01<00:02,  1.92cell/s]\r",
      "Executing: 100%|██████████| 7/7 [00:01<00:00,  8.48cell/s]\r",
      "Executing: 100%|██████████| 7/7 [00:01<00:00,  4.32cell/s]\n"
     ]
    }
   ],
   "source": [
    "%%bash\n",
    "NUM=5\n",
    "python ../quiz_mill/generate_notebooks.py -n $NUM"
   ]
  },
  {
   "cell_type": "markdown",
   "id": "440f3e1c",
   "metadata": {},
   "source": [
    "Read more [here](generate_notebooks.ipynb).\n",
    "\n",
    "#### 4. Filter notebooks into student and solution notebooks"
   ]
  },
  {
   "cell_type": "code",
   "execution_count": 12,
   "id": "55f4fe61",
   "metadata": {},
   "outputs": [],
   "source": [
    "%%bash\n",
    "filter-notebook ../notebooks/output/unfiltered/ ../notebooks/output/filtered/"
   ]
  },
  {
   "cell_type": "markdown",
   "id": "07c57133",
   "metadata": {},
   "source": [
    "Read more [here](filter_notebook.md).\n",
    "#### 5. Send filtered solution notebooks as quizzes to Canvas"
   ]
  },
  {
   "cell_type": "code",
   "execution_count": null,
   "id": "8b86d53e",
   "metadata": {},
   "outputs": [],
   "source": [
    "%%bash\n",
    "sh ../quiz_mill/send_to_canvas.sh"
   ]
  },
  {
   "cell_type": "markdown",
   "id": "2bfc02f5",
   "metadata": {},
   "source": [
    "Note: requires Canvas API token to run.\n",
    "\n",
    "Read more [here](send_to_canvas.md)."
   ]
  }
 ],
 "metadata": {
  "jupytext": {
   "text_representation": {
    "extension": ".py",
    "format_name": "percent",
    "format_version": "1.3",
    "jupytext_version": "1.10.3"
   }
  },
  "kernelspec": {
   "display_name": "Python 3",
   "language": "python",
   "name": "python3"
  },
  "language_info": {
   "codemirror_mode": {
    "name": "ipython",
    "version": 3
   },
   "file_extension": ".py",
   "mimetype": "text/x-python",
   "name": "python",
   "nbconvert_exporter": "python",
   "pygments_lexer": "ipython3",
   "version": "3.8.10"
  }
 },
 "nbformat": 4,
 "nbformat_minor": 5
}
