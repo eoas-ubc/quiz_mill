{
 "cells": [
  {
   "cell_type": "markdown",
   "id": "28a668c6",
   "metadata": {},
   "source": [
    "# Convert Jupyter notebooks to Canvas quizzes\n",
    "This guide shows you how you go from Jupyter notebooks to generating multiple quizzes and sending them to Canvas. The following steps allow you to run the commands in the notebook (on a JupyterHub), but simply copy and paste the commands in your terminal if running on your local machine.\n",
    "***\n",
    "### Prerequisites:\n",
    "- Must have the Canvas API token\n",
    "- Must have the base notebook\n",
    "\n",
    "### Step 1: Remove any old \"Two Layers\" quizzes from Canvas (if applicable)\n",
    "Run the following cell:"
   ]
  },
  {
   "cell_type": "code",
   "execution_count": null,
   "id": "3df09558",
   "metadata": {},
   "outputs": [],
   "source": [
    "%%bash\n",
    "remove-quizzes ../token.yaml -v"
   ]
  },
  {
   "cell_type": "markdown",
   "id": "616e137e",
   "metadata": {},
   "source": [
    "### Step 2: Remove any old notebooks from `output/` folder (if applicable)"
   ]
  },
  {
   "cell_type": "code",
   "execution_count": null,
   "id": "360e5701",
   "metadata": {},
   "outputs": [],
   "source": [
    "%%bash\n",
    "clean-output -v"
   ]
  },
  {
   "cell_type": "markdown",
   "id": "fbd69ba2",
   "metadata": {},
   "source": [
    "### Step 3: Generate **n** notebooks with random parameters"
   ]
  },
  {
   "cell_type": "code",
   "execution_count": null,
   "id": "4682b5d3",
   "metadata": {},
   "outputs": [],
   "source": [
    "%%bash\n",
    "NUM=5\n",
    "generate-notebooks ../notebooks -n $NUM"
   ]
  },
  {
   "cell_type": "markdown",
   "id": "e598c13f",
   "metadata": {},
   "source": [
    "### Step 4: Filter notebooks into student and solution notebook versions"
   ]
  },
  {
   "cell_type": "code",
   "execution_count": null,
   "id": "7a9339c7",
   "metadata": {},
   "outputs": [],
   "source": [
    "%%bash\n",
    "filter-notebook ../notebooks/output/unfiltered ../notebooks/output/filtered"
   ]
  },
  {
   "cell_type": "markdown",
   "id": "fbaa40fb",
   "metadata": {},
   "source": [
    "### Step 5: Send solution notebooks as quizzes to Canvas"
   ]
  },
  {
   "cell_type": "code",
   "execution_count": null,
   "id": "7d79d758",
   "metadata": {},
   "outputs": [],
   "source": [
    "%%bash\n",
    "to-canvas ../notebooks/output/filtered/solution/ -i 51824 -v  "
   ]
  },
  {
   "cell_type": "markdown",
   "id": "5d1e3797",
   "metadata": {},
   "source": [
    "See the [reference](reference.ipynb) guide for full details of commands and options."
   ]
  }
 ],
 "metadata": {
  "kernelspec": {
   "display_name": "Python 3",
   "language": "python",
   "name": "python3"
  },
  "language_info": {
   "codemirror_mode": {
    "name": "ipython",
    "version": 3
   },
   "file_extension": ".py",
   "mimetype": "text/x-python",
   "name": "python",
   "nbconvert_exporter": "python",
   "pygments_lexer": "ipython3",
   "version": "3.8.10"
  }
 },
 "nbformat": 4,
 "nbformat_minor": 5
}
