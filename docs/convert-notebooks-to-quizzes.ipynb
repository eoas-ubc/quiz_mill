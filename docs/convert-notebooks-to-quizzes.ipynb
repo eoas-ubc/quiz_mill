{
 "cells": [
  {
   "cell_type": "markdown",
   "id": "ec112d95",
   "metadata": {},
   "source": [
    "# Convert Jupyter notebooks to Canvas quizzes\n",
    "This guide shows you how you go from Jupyter notebooks to generating multiple quizzes and sending them to Canvas. The following steps allow you to run the commands in the notebook (on a JupyterHub), but simply copy and paste the commands in your terminal if running on your local machine.\n",
    "***\n",
    "## Prerequisites:\n",
    "- Must have the Canvas API token\n",
    "- Must have the base notebook\n",
    "\n",
    "## Step 1: Remove any old \"Two Layers\" quizzes from Canvas (if applicable)\n",
    "Run the following cell:"
   ]
  },
  {
   "cell_type": "code",
   "execution_count": null,
   "id": "78a00f64",
   "metadata": {},
   "outputs": [],
   "source": [
    "%%bash\n",
    "remove -v .."
   ]
  },
  {
   "cell_type": "markdown",
   "id": "d6812a13",
   "metadata": {},
   "source": [
    "### Output should be similar to the following:\n",
    "![remove output](output_remove_canvas.png)"
   ]
  },
  {
   "cell_type": "markdown",
   "id": "9a1c970b",
   "metadata": {},
   "source": [
    "## Step 2: Remove any old notebooks from `output/` folder (if applicable)\n",
    "Run the following cell:"
   ]
  },
  {
   "cell_type": "code",
   "execution_count": null,
   "id": "467f1ca5",
   "metadata": {},
   "outputs": [],
   "source": [
    "%%bash\n",
    "clean -v"
   ]
  },
  {
   "cell_type": "markdown",
   "id": "5b1a77b8",
   "metadata": {},
   "source": [
    "### Output should be similar to the following:\n",
    "![clean output](output_clean.png)"
   ]
  },
  {
   "cell_type": "markdown",
   "id": "ee2a559c",
   "metadata": {},
   "source": [
    "## Step 3: Generate **N** notebooks with random parameters\n",
    "Run the following cell:"
   ]
  },
  {
   "cell_type": "code",
   "execution_count": null,
   "id": "a7423703",
   "metadata": {},
   "outputs": [],
   "source": [
    "%%bash\n",
    "N=5\n",
    "generate -n $N ../notebooks"
   ]
  },
  {
   "cell_type": "markdown",
   "id": "d1adbeec",
   "metadata": {},
   "source": [
    "### Expected output:\n",
    "![generate notebooks expected output](output_generate.png)\n",
    "\n",
    "### What the notebook should look like:\n",
    "![unfiltered notebook](unfiltered_notebook.png)\n",
    "The notebook is located at `quiz_mill/notebooks/output/unfiltered/`."
   ]
  },
  {
   "cell_type": "markdown",
   "id": "9a7cf876",
   "metadata": {},
   "source": [
    "## Step 4: Filter notebooks into student and solution notebook versions\n",
    "Run the following cell:"
   ]
  },
  {
   "cell_type": "code",
   "execution_count": null,
   "id": "486e2405",
   "metadata": {},
   "outputs": [],
   "source": [
    "%%bash\n",
    "filter -v ../notebooks/output"
   ]
  },
  {
   "cell_type": "markdown",
   "id": "b518a1e0",
   "metadata": {},
   "source": [
    "### Expected output:\n",
    "![filter notebook](output_filter.png)\n",
    "\n",
    "### Student notebook:\n",
    "![student notebook](student_notebook.png)\n",
    "\n",
    "### Solution notebook:\n",
    "![solution notebook](solution_notebook.png)"
   ]
  },
  {
   "cell_type": "markdown",
   "id": "e383e566",
   "metadata": {},
   "source": [
    "### Step 5: Send solution notebooks as quizzes to Canvas\n",
    "Run the following cell:"
   ]
  },
  {
   "cell_type": "code",
   "execution_count": null,
   "id": "67a2c9ae",
   "metadata": {},
   "outputs": [],
   "source": [
    "%%bash\n",
    "send -c 51824 -v ../notebooks/output/filtered/solution/"
   ]
  },
  {
   "cell_type": "markdown",
   "id": "0eab86e8",
   "metadata": {},
   "source": [
    "### Expected output:\n",
    "![to-canvas output](out_to_canvas.png)\n",
    "\n",
    "### What you should see on Canvas:\n",
    "![quizzes on Canvas](canvas_quizzes.png)"
   ]
  },
  {
   "cell_type": "markdown",
   "id": "ff5b13f2",
   "metadata": {},
   "source": [
    "See the [reference](reference.ipynb) guide for full details of commands and options."
   ]
  }
 ],
 "metadata": {
  "jupytext": {
   "text_representation": {
    "extension": ".md",
    "format_name": "myst",
    "format_version": 0.13,
    "jupytext_version": "1.10.3"
   }
  },
  "kernelspec": {
   "display_name": "Python 3",
   "language": "python",
   "name": "python3"
  },
  "language_info": {
   "codemirror_mode": {
    "name": "ipython",
    "version": 3
   },
   "file_extension": ".py",
   "mimetype": "text/x-python",
   "name": "python",
   "nbconvert_exporter": "python",
   "pygments_lexer": "ipython3",
   "version": "3.8.10"
  }
 },
 "nbformat": 4,
 "nbformat_minor": 5
}
