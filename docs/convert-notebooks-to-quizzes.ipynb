{
 "cells": [
  {
   "cell_type": "markdown",
   "id": "28a668c6",
   "metadata": {},
   "source": [
    "# Convert Jupyter notebooks to Canvas quizzes\n",
    "This guide shows you how you go from Jupyter notebooks to generating multiple quizzes and sending them to Canvas. The following steps allow you to run the commands in the notebook (on a JupyterHub), but simply copy and paste the commands in your terminal if running on your local machine.\n",
    "***\n",
    "\n",
    "### Step 1: Remove any old \"Two Layers\" quizzes from Canvas\n",
    "Run the following cell"
   ]
  },
  {
   "cell_type": "code",
   "execution_count": null,
   "id": "3df09558",
   "metadata": {},
   "outputs": [],
   "source": [
    "%%bash\n",
    "\n"
   ]
  }
 ],
 "metadata": {
  "kernelspec": {
   "display_name": "Python 3",
   "language": "python",
   "name": "python3"
  },
  "language_info": {
   "codemirror_mode": {
    "name": "ipython",
    "version": 3
   },
   "file_extension": ".py",
   "mimetype": "text/x-python",
   "name": "python",
   "nbconvert_exporter": "python",
   "pygments_lexer": "ipython3",
   "version": "3.8.10"
  }
 },
 "nbformat": 4,
 "nbformat_minor": 5
}
