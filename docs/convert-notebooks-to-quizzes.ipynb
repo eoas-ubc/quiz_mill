{
 "cells": [
  {
   "cell_type": "markdown",
   "id": "900a6227",
   "metadata": {},
   "source": [
    "# Convert Jupyter notebooks to Canvas quizzes\n",
    "This guide shows you how you go from Jupyter notebooks to generating multiple quizzes and sending them to Canvas. The following steps allow you to run the commands in the notebook (on a JupyterHub), but simply copy and paste the commands in your terminal if running on your local machine.\n",
    "***\n",
    "## Prerequisites:\n",
    "- Must have the Canvas API token\n",
    "- Must have the base notebook\n",
    "\n",
    "## Step 1: Remove any old \"Two Layers\" quizzes from Canvas (if applicable)\n",
    "Run the following cell:"
   ]
  },
  {
   "cell_type": "code",
   "execution_count": 8,
   "id": "64c4cf0b",
   "metadata": {},
   "outputs": [
    {
     "name": "stdout",
     "output_type": "stream",
     "text": [
      "Two Layers Quiz 1 (990380) deleted\n",
      "Two Layers Quiz 4 (990381) deleted\n",
      "Two Layers Quiz 2 (990382) deleted\n",
      "Two Layers Quiz 5 (990383) deleted\n",
      "Two Layers Quiz 3 (990384) deleted\n"
     ]
    }
   ],
   "source": [
    "%%bash\n",
    "remove -v .."
   ]
  },
  {
   "cell_type": "markdown",
   "id": "da54ff99",
   "metadata": {},
   "source": [
    "### Output should be similar to the following:\n",
    "![remove output](output_remove_canvas.png)"
   ]
  },
  {
   "cell_type": "markdown",
   "id": "f9cb79e5",
   "metadata": {},
   "source": [
    "## Step 2: Remove any old notebooks from `output/` folder (if applicable)\n",
    "Run the following cell:"
   ]
  },
  {
   "cell_type": "code",
   "execution_count": 9,
   "id": "926f4e72",
   "metadata": {},
   "outputs": [
    {
     "name": "stdout",
     "output_type": "stream",
     "text": [
      "Removed notebooks/output/unfiltered/output_two_layers5.ipynb\n",
      "Removed notebooks/output/unfiltered/output_two_layers1.ipynb\n",
      "Removed notebooks/output/unfiltered/output_two_layers3.ipynb\n",
      "Removed notebooks/output/unfiltered/output_two_layers4.ipynb\n",
      "Removed notebooks/output/unfiltered/output_two_layers2.ipynb\n",
      "Removed notebooks/output/filtered/student/output_two_layers5_student.md\n",
      "Removed notebooks/output/filtered/student/output_two_layers5_student.ipynb\n",
      "Removed notebooks/output/filtered/student/output_two_layers2_student.md\n",
      "Removed notebooks/output/filtered/student/output_two_layers1_student.ipynb\n",
      "Removed notebooks/output/filtered/student/output_two_layers2_student.ipynb\n",
      "Removed notebooks/output/filtered/student/output_two_layers3_student.ipynb\n",
      "Removed notebooks/output/filtered/student/output_two_layers4_student.md\n",
      "Removed notebooks/output/filtered/student/output_two_layers1_student.md\n",
      "Removed notebooks/output/filtered/student/output_two_layers4_student.ipynb\n",
      "Removed notebooks/output/filtered/student/output_two_layers3_student.md\n",
      "Removed notebooks/output/filtered/solution/output_two_layers1_solution.md\n",
      "Removed notebooks/output/filtered/solution/output_two_layers5_solution.ipynb\n",
      "Removed notebooks/output/filtered/solution/output_two_layers2_solution.ipynb\n",
      "Removed notebooks/output/filtered/solution/output_two_layers3_solution.ipynb\n",
      "Removed notebooks/output/filtered/solution/output_two_layers4_solution.ipynb\n",
      "Removed notebooks/output/filtered/solution/output_two_layers4_solution.md\n",
      "Removed notebooks/output/filtered/solution/output_two_layers1_solution.ipynb\n",
      "Removed notebooks/output/filtered/solution/output_two_layers2_solution.md\n",
      "Removed notebooks/output/filtered/solution/output_two_layers5_solution.md\n",
      "Removed notebooks/output/filtered/solution/output_two_layers3_solution.md\n"
     ]
    }
   ],
   "source": [
    "%%bash\n",
    "clean -v"
   ]
  },
  {
   "cell_type": "markdown",
   "id": "39c9c668",
   "metadata": {},
   "source": [
    "### Output should be similar to the following:\n",
    "![clean output](output_clean.png)"
   ]
  },
  {
   "cell_type": "markdown",
   "id": "d318ee46",
   "metadata": {},
   "source": [
    "## Step 3: Generate **N** notebooks with random parameters\n",
    "Run the following cell:"
   ]
  },
  {
   "cell_type": "code",
   "execution_count": null,
   "id": "c6ba1d52",
   "metadata": {},
   "outputs": [],
   "source": [
    "%%bash\n",
    "N=5\n",
    "generate -n $N notebooks/"
   ]
  },
  {
   "cell_type": "markdown",
   "id": "aea97a89",
   "metadata": {},
   "source": [
    "### Expected output:\n",
    "![generate notebooks expected output](output_generate.png)\n",
    "\n",
    "### What the notebook should look like:\n",
    "See an example [here](ex_two_layers.md).  \n",
    "The notebooks are located at `quiz_mill/notebooks/output/unfiltered/`."
   ]
  },
  {
   "cell_type": "markdown",
   "id": "22f3acf0",
   "metadata": {},
   "source": [
    "## Step 4: Filter notebooks into student and solution notebook versions\n",
    "Run the following cell:"
   ]
  },
  {
   "cell_type": "code",
   "execution_count": null,
   "id": "50cfc418",
   "metadata": {},
   "outputs": [],
   "source": [
    "%%bash\n",
    "filter -v notebooks/output"
   ]
  },
  {
   "cell_type": "markdown",
   "id": "432d8329",
   "metadata": {},
   "source": [
    "### Expected output:\n",
    "![filter notebook](output_filter.png)\n",
    "\n",
    "### Student notebook:\n",
    "See [here](ex_output_two_layers1_student.md) for an example student notebook.\n",
    "\n",
    "### Solution notebook:\n",
    "See [here](ex_output_two_layers1_solution.md) for an example solution notebook."
   ]
  },
  {
   "cell_type": "markdown",
   "id": "6644448e",
   "metadata": {},
   "source": [
    "### Step 5: Send solution notebooks as quizzes to Canvas\n",
    "Run the following cell:"
   ]
  },
  {
   "cell_type": "code",
   "execution_count": null,
   "id": "c6f13ecf",
   "metadata": {},
   "outputs": [],
   "source": [
    "%%bash\n",
    "send -c 51824 -v notebooks/output/filtered/solution/"
   ]
  },
  {
   "cell_type": "markdown",
   "id": "e823ad54",
   "metadata": {},
   "source": [
    "### Expected output:\n",
    "![to-canvas output](out_to_canvas.png)\n",
    "\n",
    "### What you should see on Canvas:\n",
    "![quizzes on Canvas](canvas_quizzes.png)"
   ]
  },
  {
   "cell_type": "markdown",
   "id": "7f2140f4",
   "metadata": {},
   "source": [
    "See the [reference](reference.ipynb) guide for full details of commands and options."
   ]
  }
 ],
 "metadata": {
  "jupytext": {
   "text_representation": {
    "extension": ".md",
    "format_name": "myst",
    "format_version": 0.13,
    "jupytext_version": "1.10.3"
   }
  },
  "kernelspec": {
   "display_name": "Python 3",
   "language": "python",
   "name": "python3"
  },
  "language_info": {
   "codemirror_mode": {
    "name": "ipython",
    "version": 3
   },
   "file_extension": ".py",
   "mimetype": "text/x-python",
   "name": "python",
   "nbconvert_exporter": "python",
   "pygments_lexer": "ipython3",
   "version": "3.8.10"
  }
 },
 "nbformat": 4,
 "nbformat_minor": 5
}
