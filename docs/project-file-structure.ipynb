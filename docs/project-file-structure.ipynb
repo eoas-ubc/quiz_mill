{
 "cells": [
  {
   "cell_type": "markdown",
   "id": "0f00fda2",
   "metadata": {},
   "source": [
    "# Project file structure\n",
    "Many scripts and commands require a specific file structure to run properly. The below diagram shows what the project file structure should look like (only folders that are required by scripts and commands are shown).\n",
    "\n",
    "![file structure](file_structure.png)"
   ]
  }
 ],
 "metadata": {
  "kernelspec": {
   "display_name": "Python 3",
   "language": "python",
   "name": "python3"
  },
  "language_info": {
   "codemirror_mode": {
    "name": "ipython",
    "version": 3
   },
   "file_extension": ".py",
   "mimetype": "text/x-python",
   "name": "python",
   "nbconvert_exporter": "python",
   "pygments_lexer": "ipython3",
   "version": "3.8.10"
  }
 },
 "nbformat": 4,
 "nbformat_minor": 5
}
