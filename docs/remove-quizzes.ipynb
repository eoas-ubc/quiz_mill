{
 "cells": [
  {
   "cell_type": "markdown",
   "id": "90774a22",
   "metadata": {},
   "source": [
    "# Remove Quizzes\n",
    "Script to remove all Two Layers quizzes from Canvas.\n",
    "\n",
    "## Running the script"
   ]
  },
  {
   "cell_type": "code",
   "execution_count": 1,
   "id": "ade0a9a5",
   "metadata": {},
   "outputs": [],
   "source": [
    "%%bash\n",
    "python ../quiz_mill/remove_quizzes.py"
   ]
  },
  {
   "cell_type": "markdown",
   "id": "6d5d3a93",
   "metadata": {},
   "source": [
    "## How the script works\n",
    "\n",
    "### Import libraries"
   ]
  },
  {
   "cell_type": "code",
   "execution_count": null,
   "id": "ca0d967d",
   "metadata": {},
   "outputs": [],
   "source": [
    "from canvasapi import Canvas\n",
    "from pathlib import Path\n",
    "import yaml"
   ]
  },
  {
   "cell_type": "markdown",
   "id": "60546674",
   "metadata": {},
   "source": [
    "### Set variables\n",
    "#### Decide whether to print out statements"
   ]
  },
  {
   "cell_type": "code",
   "execution_count": null,
   "id": "130ff523",
   "metadata": {},
   "outputs": [],
   "source": [
    "verbose = True"
   ]
  },
  {
   "cell_type": "markdown",
   "id": "8f966bf7",
   "metadata": {},
   "source": [
    "#### Get tokens"
   ]
  },
  {
   "cell_type": "code",
   "execution_count": null,
   "id": "7438e9fe",
   "metadata": {},
   "outputs": [],
   "source": [
    "path_to_token = Path('../token.yaml').absolute()\n",
    "file = open(path_to_token)\n",
    "token = yaml.load(file, Loader=yaml.FullLoader)"
   ]
  },
  {
   "cell_type": "markdown",
   "id": "9c19f6e0",
   "metadata": {},
   "source": [
    "#### Get Canvas object"
   ]
  },
  {
   "cell_type": "code",
   "execution_count": null,
   "id": "3508cda8",
   "metadata": {},
   "outputs": [],
   "source": [
    "API_URL = \"https://canvas.ubc.ca/\"\n",
    "API_KEY = token\n",
    "\n",
    "canvas = Canvas(API_URL, token)"
   ]
  },
  {
   "cell_type": "markdown",
   "id": "10f13774",
   "metadata": {},
   "source": [
    "#### Get course object and assignments"
   ]
  },
  {
   "cell_type": "code",
   "execution_count": null,
   "id": "7348f5e7",
   "metadata": {},
   "outputs": [],
   "source": [
    "COURSE_NUM = 51824\n",
    "course = canvas.get_course(COURSE_NUM)\n",
    "assignments = course.get_assignments()"
   ]
  },
  {
   "cell_type": "markdown",
   "id": "3cedaa6e",
   "metadata": {},
   "source": [
    "### Delete Two Layers quizzes from Canvas"
   ]
  },
  {
   "cell_type": "code",
   "execution_count": null,
   "id": "ef49d4f0",
   "metadata": {},
   "outputs": [],
   "source": [
    "quizzes_to_delete = []\n",
    "for assignment in assignments:\n",
    "    if 'Two Layers' in str(assignment):\n",
    "        assignment.delete()\n",
    "        if verbose:\n",
    "            print(str(assignment), \"deleted\")"
   ]
  }
 ],
 "metadata": {
  "kernelspec": {
   "display_name": "Python 3",
   "language": "python",
   "name": "python3"
  },
  "language_info": {
   "codemirror_mode": {
    "name": "ipython",
    "version": 3
   },
   "file_extension": ".py",
   "mimetype": "text/x-python",
   "name": "python",
   "nbconvert_exporter": "python",
   "pygments_lexer": "ipython3",
   "version": "3.8.10"
  }
 },
 "nbformat": 4,
 "nbformat_minor": 5
}
