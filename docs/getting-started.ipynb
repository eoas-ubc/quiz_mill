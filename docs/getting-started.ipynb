{
 "cells": [
  {
   "cell_type": "markdown",
   "id": "d8d6b5be",
   "metadata": {},
   "source": [
    "# Getting started\n",
    "These tutorials will help you setup and prepare to use the converter.\n",
    "\n",
    "- [Environment setup](environment-setup.ipynb)\n",
    "- [Create the base notebook](create-base-notebook.ipynb)\n",
    "- [Understanding the project file structure](project-file-structure.ipynb)\n",
    "- [Getting the Canvas API token](canvas-api.ipynb)"
   ]
  }
 ],
 "metadata": {
  "kernelspec": {
   "display_name": "Python 3",
   "language": "python",
   "name": "python3"
  },
  "language_info": {
   "codemirror_mode": {
    "name": "ipython",
    "version": 3
   },
   "file_extension": ".py",
   "mimetype": "text/x-python",
   "name": "python",
   "nbconvert_exporter": "python",
   "pygments_lexer": "ipython3",
   "version": "3.8.10"
  }
 },
 "nbformat": 4,
 "nbformat_minor": 5
}
