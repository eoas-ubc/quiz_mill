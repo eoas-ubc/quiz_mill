{
 "cells": [
  {
   "cell_type": "markdown",
   "id": "f9d3da79",
   "metadata": {},
   "source": [
    "# Quickstart\n",
    "Skip all the details and run the below code cell to generate quizzes and push them to Canvas."
   ]
  },
  {
   "cell_type": "markdown",
   "id": "59dfc390",
   "metadata": {},
   "source": [
    "## Requirements\n",
    "1. Canvas API token is in outermost `quiz-mill/` folder. Learn how to get the Canvas API token [here]"
   ]
  },
  {
   "cell_type": "markdown",
   "id": "3bdd29a1",
   "metadata": {},
   "source": [
    "Run this code cell (assign NUM variable the desired number of quizzes):"
   ]
  },
  {
   "cell_type": "code",
   "execution_count": null,
   "id": "8705ff80",
   "metadata": {},
   "outputs": [],
   "source": [
    "%%bash\n",
    "NUM=5\n",
    "sh do_all.sh $NUM "
   ]
  },
  {
   "cell_type": "markdown",
   "id": "7f130dd0",
   "metadata": {},
   "source": [
    "What did the above cell do?\n",
    "1. Removed all previous \"Two Layers\" quizzes from Canvas\n",
    "2. Removed all previous notebooks in `output/` folder\n",
    "3. Generate `NUM` notebooks with randomly generated parameters\n",
    "4. Filter notebooks into student and solution versions\n",
    "5. Push the solution version notebooks to Canvas"
   ]
  }
 ],
 "metadata": {
  "kernelspec": {
   "display_name": "Python 3",
   "language": "python",
   "name": "python3"
  },
  "language_info": {
   "codemirror_mode": {
    "name": "ipython",
    "version": 3
   },
   "file_extension": ".py",
   "mimetype": "text/x-python",
   "name": "python",
   "nbconvert_exporter": "python",
   "pygments_lexer": "ipython3",
   "version": "3.8.10"
  }
 },
 "nbformat": 4,
 "nbformat_minor": 5
}
