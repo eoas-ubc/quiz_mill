{
 "cells": [
  {
   "cell_type": "markdown",
   "id": "85355d62",
   "metadata": {
    "papermill": {
     "duration": 0.006407,
     "end_time": "2021-06-28T20:18:31.046667",
     "exception": false,
     "start_time": "2021-06-28T20:18:31.040260",
     "status": "completed"
    },
    "tags": []
   },
   "source": [
    "# getting started\n",
    "\n",
    "in the quiz_mill folder, do:\n",
    "\n",
    "`pip install -e . -U`\n",
    "\n",
    "\n",
    "to install the quiz_mill package\n",
    "\n",
    "Then at the command line, create a new notebook with:\n",
    "\n",
    "`papermill -p sol 330 -p epsilon1 0.4 -p epsilon2 0.6 notebooks/two_layers.ipynb trial1.ipynb`\n"
   ]
  },
  {
   "cell_type": "code",
   "execution_count": 1,
   "id": "d48d9636",
   "metadata": {
    "execution": {
     "iopub.execute_input": "2021-06-28T20:18:31.067886Z",
     "iopub.status.busy": "2021-06-28T20:18:31.066850Z",
     "iopub.status.idle": "2021-06-28T20:18:31.207589Z",
     "shell.execute_reply": "2021-06-28T20:18:31.208365Z"
    },
    "papermill": {
     "duration": 0.155855,
     "end_time": "2021-06-28T20:18:31.208678",
     "exception": false,
     "start_time": "2021-06-28T20:18:31.052823",
     "status": "completed"
    },
    "tags": []
   },
   "outputs": [],
   "source": [
    "from quiz_mill.solve_layers import do_two, do_two_matrix, find_temps"
   ]
  },
  {
   "cell_type": "code",
   "execution_count": 3,
   "id": "605683b0",
   "metadata": {
    "execution": {
     "iopub.execute_input": "2021-06-28T20:18:31.247737Z",
     "iopub.status.busy": "2021-06-28T20:18:31.246904Z",
     "iopub.status.idle": "2021-06-28T20:18:31.249029Z",
     "shell.execute_reply": "2021-06-28T20:18:31.249501Z"
    },
    "papermill": {
     "duration": 0.010484,
     "end_time": "2021-06-28T20:18:31.249710",
     "exception": false,
     "start_time": "2021-06-28T20:18:31.239226",
     "status": "completed"
    },
    "tags": [
     "injected-parameters"
    ]
   },
   "outputs": [],
   "source": [
    "# Parameters\n",
    "sol = 359.7\n",
    "epsilon1 = 0.28\n",
    "epsilon2 = 0.28\n",
    "albedo = 0.69\n"
   ]
  },
  {
   "cell_type": "markdown",
   "id": "dc608482",
   "metadata": {
    "ctype": "question",
    "quesnum": "1"
   },
   "source": [
    "q1: Given the above parameters, find the temperature of layer 1."
   ]
  },
  {
   "cell_type": "markdown",
   "id": "29630ac7",
   "metadata": {
    "ctype": "answer",
    "quesnum": "1"
   },
   "source": [
    "answer: 23.234946976744194"
   ]
  }
 ],
 "metadata": {
  "jupytext": {
   "cell_metadata_filter": "-all",
   "formats": "md:myst,ipynb,py:percent",
   "notebook_metadata_filter": "all,-language_info,-toc,-latex_envs"
  },
  "kernelspec": {
   "display_name": "Python 3",
   "language": "python",
   "name": "python3"
  },
  "language_info": {
   "codemirror_mode": {
    "name": "ipython",
    "version": 3
   },
   "file_extension": ".py",
   "mimetype": "text/x-python",
   "name": "python",
   "nbconvert_exporter": "python",
   "pygments_lexer": "ipython3",
   "version": "3.8.10"
  },
  "papermill": {
   "default_parameters": {},
   "duration": 1.336477,
   "end_time": "2021-06-28T20:18:31.613976",
   "environment_variables": {},
   "exception": null,
   "input_path": "notebooks/two_layers.ipynb",
   "output_path": "notebooks/output/unfiltered/output_two_layers5.ipynb",
   "parameters": {
    "albedo": 0.69,
    "epsilon1": 0.28,
    "epsilon2": 0.28,
    "sol": 359.7
   },
   "start_time": "2021-06-28T20:18:30.277499",
   "version": "2.3.3"
  }
 },
 "nbformat": 4,
 "nbformat_minor": 5
}
