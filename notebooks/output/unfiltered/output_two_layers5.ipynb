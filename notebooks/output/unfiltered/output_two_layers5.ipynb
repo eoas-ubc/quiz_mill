{
 "cells": [
  {
   "cell_type": "markdown",
   "id": "85355d62",
   "metadata": {
    "papermill": {
     "duration": 0.006407,
     "end_time": "2021-06-28T20:18:31.046667",
     "exception": false,
     "start_time": "2021-06-28T20:18:31.040260",
     "status": "completed"
    },
    "tags": []
   },
   "source": [
    "# getting started\n",
    "\n",
    "in the quiz_mill folder, do:\n",
    "\n",
    "`pip install -e . -U`\n",
    "\n",
    "\n",
    "to install the quiz_mill package\n",
    "\n",
    "Then at the command line, create a new notebook with:\n",
    "\n",
    "`papermill -p sol 330 -p epsilon1 0.4 -p epsilon2 0.6 notebooks/two_layers.ipynb trial1.ipynb`\n"
   ]
  },
  {
   "cell_type": "code",
   "execution_count": 1,
   "id": "d48d9636",
   "metadata": {
    "execution": {
     "iopub.execute_input": "2021-06-28T20:18:31.067886Z",
     "iopub.status.busy": "2021-06-28T20:18:31.066850Z",
     "iopub.status.idle": "2021-06-28T20:18:31.207589Z",
     "shell.execute_reply": "2021-06-28T20:18:31.208365Z"
    },
    "papermill": {
     "duration": 0.155855,
     "end_time": "2021-06-28T20:18:31.208678",
     "exception": false,
     "start_time": "2021-06-28T20:18:31.052823",
     "status": "completed"
    },
    "tags": []
   },
   "outputs": [],
   "source": [
    "from quiz_mill.solve_layers import do_two, do_two_matrix, find_temps"
   ]
  },
  {
   "cell_type": "code",
   "execution_count": 2,
   "id": "19476b6f",
   "metadata": {
    "execution": {
     "iopub.execute_input": "2021-06-28T20:18:31.230515Z",
     "iopub.status.busy": "2021-06-28T20:18:31.229707Z",
     "iopub.status.idle": "2021-06-28T20:18:31.232034Z",
     "shell.execute_reply": "2021-06-28T20:18:31.232518Z"
    },
    "papermill": {
     "duration": 0.013471,
     "end_time": "2021-06-28T20:18:31.232722",
     "exception": false,
     "start_time": "2021-06-28T20:18:31.219251",
     "status": "completed"
    },
    "tags": [
     "parameters"
    ]
   },
   "outputs": [],
   "source": [
    "# Default parameters\n",
    "sol = 341.0\n",
    "epsilon1 = 0.55\n",
    "epsilon2 = 0.55\n",
    "albedo = 0.3"
   ]
  },
  {
   "cell_type": "code",
   "execution_count": 3,
   "id": "605683b0",
   "metadata": {
    "execution": {
     "iopub.execute_input": "2021-06-28T20:18:31.247737Z",
     "iopub.status.busy": "2021-06-28T20:18:31.246904Z",
     "iopub.status.idle": "2021-06-28T20:18:31.249029Z",
     "shell.execute_reply": "2021-06-28T20:18:31.249501Z"
    },
    "papermill": {
     "duration": 0.010484,
     "end_time": "2021-06-28T20:18:31.249710",
     "exception": false,
     "start_time": "2021-06-28T20:18:31.239226",
     "status": "completed"
    },
    "tags": [
     "injected-parameters"
    ]
   },
   "outputs": [],
   "source": [
    "# Parameters\n",
    "sol = 359.7\n",
    "epsilon1 = 0.28\n",
    "epsilon2 = 0.28\n",
    "albedo = 0.69\n"
   ]
  },
  {
   "cell_type": "markdown",
   "id": "2cd91d6a",
   "metadata": {
    "papermill": {
     "duration": 0.004622,
     "end_time": "2021-06-28T20:18:31.259766",
     "exception": false,
     "start_time": "2021-06-28T20:18:31.255144",
     "status": "completed"
    },
    "tags": []
   },
   "source": [
    "## compare the two functions"
   ]
  },
  {
   "cell_type": "code",
   "execution_count": 4,
   "id": "51944938",
   "metadata": {
    "execution": {
     "iopub.execute_input": "2021-06-28T20:18:31.274671Z",
     "iopub.status.busy": "2021-06-28T20:18:31.273814Z",
     "iopub.status.idle": "2021-06-28T20:18:31.276870Z",
     "shell.execute_reply": "2021-06-28T20:18:31.277376Z"
    },
    "papermill": {
     "duration": 0.012952,
     "end_time": "2021-06-28T20:18:31.277579",
     "exception": false,
     "start_time": "2021-06-28T20:18:31.264627",
     "status": "completed"
    },
    "tags": []
   },
   "outputs": [
    {
     "name": "stdout",
     "output_type": "stream",
     "text": [
      "analytic temperatures: (225.95989705965675, 165.2148134506754, 155.32683462157533)\n",
      "numeric temperatues: (225.95989705965675, 165.2148134506754, 155.32683462157533)\n"
     ]
    }
   ],
   "source": [
    "analytic_fluxes = do_two(sol, epsilon1, albedo)\n",
    "numeric_fluxes = do_two_matrix(sol, albedo, epsilon1, epsilon2)\n",
    "print(f\"analytic temperatures: {find_temps(analytic_fluxes)}\")\n",
    "print(f\"numeric temperatues: {find_temps(numeric_fluxes)}\")"
   ]
  },
  {
   "cell_type": "code",
   "execution_count": null,
   "id": "33d4e9b7",
   "metadata": {
    "papermill": {
     "duration": 0.005606,
     "end_time": "2021-06-28T20:18:31.288844",
     "exception": false,
     "start_time": "2021-06-28T20:18:31.283238",
     "status": "completed"
    },
    "tags": []
   },
   "outputs": [],
   "source": []
  }
 ],
 "metadata": {
  "jupytext": {
   "cell_metadata_filter": "-all",
   "formats": "md:myst,ipynb,py:percent",
   "notebook_metadata_filter": "all,-language_info,-toc,-latex_envs"
  },
  "kernelspec": {
   "display_name": "Python 3",
   "language": "python",
   "name": "python3"
  },
  "language_info": {
   "codemirror_mode": {
    "name": "ipython",
    "version": 3
   },
   "file_extension": ".py",
   "mimetype": "text/x-python",
   "name": "python",
   "nbconvert_exporter": "python",
   "pygments_lexer": "ipython3",
   "version": "3.8.10"
  },
  "papermill": {
   "default_parameters": {},
   "duration": 1.336477,
   "end_time": "2021-06-28T20:18:31.613976",
   "environment_variables": {},
   "exception": null,
   "input_path": "notebooks/two_layers.ipynb",
   "output_path": "notebooks/output/unfiltered/output_two_layers5.ipynb",
   "parameters": {
    "albedo": 0.69,
    "epsilon1": 0.28,
    "epsilon2": 0.28,
    "sol": 359.7
   },
   "start_time": "2021-06-28T20:18:30.277499",
   "version": "2.3.3"
  }
 },
 "nbformat": 4,
 "nbformat_minor": 5
}