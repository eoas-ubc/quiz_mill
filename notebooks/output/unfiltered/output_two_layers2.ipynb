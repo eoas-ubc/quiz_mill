{
 "cells": [
  {
   "cell_type": "markdown",
   "id": "85355d62",
   "metadata": {
    "papermill": {
     "duration": 0.007028,
     "end_time": "2021-06-28T20:18:26.895834",
     "exception": false,
     "start_time": "2021-06-28T20:18:26.888806",
     "status": "completed"
    },
    "tags": []
   },
   "source": [
    "# getting started\n",
    "\n",
    "in the quiz_mill folder, do:\n",
    "\n",
    "`pip install -e . -U`\n",
    "\n",
    "\n",
    "to install the quiz_mill package\n",
    "\n",
    "Then at the command line, create a new notebook with:\n",
    "\n",
    "`papermill -p sol 330 -p epsilon1 0.4 -p epsilon2 0.6 notebooks/two_layers.ipynb trial1.ipynb`\n"
   ]
  },
  {
   "cell_type": "code",
   "execution_count": 1,
   "id": "d48d9636",
   "metadata": {
    "execution": {
     "iopub.execute_input": "2021-06-28T20:18:26.915990Z",
     "iopub.status.busy": "2021-06-28T20:18:26.915382Z",
     "iopub.status.idle": "2021-06-28T20:18:27.051604Z",
     "shell.execute_reply": "2021-06-28T20:18:27.052114Z"
    },
    "papermill": {
     "duration": 0.150857,
     "end_time": "2021-06-28T20:18:27.052399",
     "exception": false,
     "start_time": "2021-06-28T20:18:26.901542",
     "status": "completed"
    },
    "tags": []
   },
   "outputs": [],
   "source": [
    "from quiz_mill.solve_layers import do_two, do_two_matrix, find_temps"
   ]
  },
  {
   "cell_type": "code",
   "execution_count": 2,
   "id": "19476b6f",
   "metadata": {
    "execution": {
     "iopub.execute_input": "2021-06-28T20:18:27.069001Z",
     "iopub.status.busy": "2021-06-28T20:18:27.068247Z",
     "iopub.status.idle": "2021-06-28T20:18:27.070634Z",
     "shell.execute_reply": "2021-06-28T20:18:27.071158Z"
    },
    "papermill": {
     "duration": 0.013644,
     "end_time": "2021-06-28T20:18:27.071362",
     "exception": false,
     "start_time": "2021-06-28T20:18:27.057718",
     "status": "completed"
    },
    "tags": [
     "parameters"
    ]
   },
   "outputs": [],
   "source": [
    "# Default parameters\n",
    "sol = 341.0\n",
    "epsilon1 = 0.55\n",
    "epsilon2 = 0.55\n",
    "albedo = 0.3"
   ]
  },
  {
   "cell_type": "code",
   "execution_count": 3,
   "id": "2ec4dd35",
   "metadata": {
    "execution": {
     "iopub.execute_input": "2021-06-28T20:18:27.088461Z",
     "iopub.status.busy": "2021-06-28T20:18:27.086871Z",
     "iopub.status.idle": "2021-06-28T20:18:27.089449Z",
     "shell.execute_reply": "2021-06-28T20:18:27.089932Z"
    },
    "papermill": {
     "duration": 0.013599,
     "end_time": "2021-06-28T20:18:27.090152",
     "exception": false,
     "start_time": "2021-06-28T20:18:27.076553",
     "status": "completed"
    },
    "tags": [
     "injected-parameters"
    ]
   },
   "outputs": [],
   "source": [
    "# Parameters\n",
    "sol = 265.5\n",
    "epsilon1 = 0.62\n",
    "epsilon2 = 0.62\n",
    "albedo = 0.63\n"
   ]
  },
  {
   "cell_type": "markdown",
   "id": "2cd91d6a",
   "metadata": {
    "papermill": {
     "duration": 0.004436,
     "end_time": "2021-06-28T20:18:27.099755",
     "exception": false,
     "start_time": "2021-06-28T20:18:27.095319",
     "status": "completed"
    },
    "tags": []
   },
   "source": [
    "## compare the two functions"
   ]
  },
  {
   "cell_type": "code",
   "execution_count": 4,
   "id": "51944938",
   "metadata": {
    "execution": {
     "iopub.execute_input": "2021-06-28T20:18:27.117842Z",
     "iopub.status.busy": "2021-06-28T20:18:27.116164Z",
     "iopub.status.idle": "2021-06-28T20:18:27.120827Z",
     "shell.execute_reply": "2021-06-28T20:18:27.120022Z"
    },
    "papermill": {
     "duration": 0.016021,
     "end_time": "2021-06-28T20:18:27.121015",
     "exception": false,
     "start_time": "2021-06-28T20:18:27.104994",
     "status": "completed"
    },
    "tags": []
   },
   "outputs": [
    {
     "name": "stdout",
     "output_type": "stream",
     "text": [
      "analytic temperatures: (239.48391480713425, 218.8200080549862, 193.95825850138377)\n",
      "numeric temperatues: (239.48391480713425, 218.82000805498623, 193.95825850138377)\n"
     ]
    }
   ],
   "source": [
    "analytic_fluxes = do_two(sol, epsilon1, albedo)\n",
    "numeric_fluxes = do_two_matrix(sol, albedo, epsilon1, epsilon2)\n",
    "print(f\"analytic temperatures: {find_temps(analytic_fluxes)}\")\n",
    "print(f\"numeric temperatues: {find_temps(numeric_fluxes)}\")"
   ]
  },
  {
   "cell_type": "code",
   "execution_count": null,
   "id": "33d4e9b7",
   "metadata": {
    "papermill": {
     "duration": 0.006593,
     "end_time": "2021-06-28T20:18:27.134316",
     "exception": false,
     "start_time": "2021-06-28T20:18:27.127723",
     "status": "completed"
    },
    "tags": []
   },
   "outputs": [],
   "source": []
  }
 ],
 "metadata": {
  "jupytext": {
   "cell_metadata_filter": "-all",
   "formats": "md:myst,ipynb,py:percent",
   "notebook_metadata_filter": "all,-language_info,-toc,-latex_envs"
  },
  "kernelspec": {
   "display_name": "Python 3",
   "language": "python",
   "name": "python3"
  },
  "language_info": {
   "codemirror_mode": {
    "name": "ipython",
    "version": 3
   },
   "file_extension": ".py",
   "mimetype": "text/x-python",
   "name": "python",
   "nbconvert_exporter": "python",
   "pygments_lexer": "ipython3",
   "version": "3.8.10"
  },
  "papermill": {
   "default_parameters": {},
   "duration": 1.526306,
   "end_time": "2021-06-28T20:18:27.459462",
   "environment_variables": {},
   "exception": null,
   "input_path": "notebooks/two_layers.ipynb",
   "output_path": "notebooks/output/unfiltered/output_two_layers2.ipynb",
   "parameters": {
    "albedo": 0.63,
    "epsilon1": 0.62,
    "epsilon2": 0.62,
    "sol": 265.5
   },
   "start_time": "2021-06-28T20:18:25.933156",
   "version": "2.3.3"
  }
 },
 "nbformat": 4,
 "nbformat_minor": 5
}