{
 "cells": [
  {
   "cell_type": "markdown",
   "id": "85355d62",
   "metadata": {
    "papermill": {
     "duration": 0.007729,
     "end_time": "2021-06-28T20:18:25.281435",
     "exception": false,
     "start_time": "2021-06-28T20:18:25.273706",
     "status": "completed"
    },
    "tags": []
   },
   "source": [
    "# getting started\n",
    "\n",
    "in the quiz_mill folder, do:\n",
    "\n",
    "`pip install -e . -U`\n",
    "\n",
    "\n",
    "to install the quiz_mill package\n",
    "\n",
    "Then at the command line, create a new notebook with:\n",
    "\n",
    "`papermill -p sol 330 -p epsilon1 0.4 -p epsilon2 0.6 notebooks/two_layers.ipynb trial1.ipynb`\n"
   ]
  },
  {
   "cell_type": "code",
   "execution_count": 1,
   "id": "d48d9636",
   "metadata": {
    "execution": {
     "iopub.execute_input": "2021-06-28T20:18:25.304202Z",
     "iopub.status.busy": "2021-06-28T20:18:25.303106Z",
     "iopub.status.idle": "2021-06-28T20:18:25.508309Z",
     "shell.execute_reply": "2021-06-28T20:18:25.508812Z"
    },
    "papermill": {
     "duration": 0.221961,
     "end_time": "2021-06-28T20:18:25.509092",
     "exception": false,
     "start_time": "2021-06-28T20:18:25.287131",
     "status": "completed"
    },
    "tags": []
   },
   "outputs": [],
   "source": [
    "from quiz_mill.solve_layers import do_two, do_two_matrix, find_temps"
   ]
  },
  {
   "cell_type": "code",
   "execution_count": 2,
   "id": "19476b6f",
   "metadata": {
    "execution": {
     "iopub.execute_input": "2021-06-28T20:18:25.526344Z",
     "iopub.status.busy": "2021-06-28T20:18:25.525381Z",
     "iopub.status.idle": "2021-06-28T20:18:25.527506Z",
     "shell.execute_reply": "2021-06-28T20:18:25.528028Z"
    },
    "papermill": {
     "duration": 0.0134,
     "end_time": "2021-06-28T20:18:25.528307",
     "exception": false,
     "start_time": "2021-06-28T20:18:25.514907",
     "status": "completed"
    },
    "tags": [
     "parameters"
    ]
   },
   "outputs": [],
   "source": [
    "# Default parameters\n",
    "sol = 341.0\n",
    "epsilon1 = 0.55\n",
    "epsilon2 = 0.55\n",
    "albedo = 0.3"
   ]
  },
  {
   "cell_type": "code",
   "execution_count": 3,
   "id": "66c91899",
   "metadata": {
    "execution": {
     "iopub.execute_input": "2021-06-28T20:18:25.543522Z",
     "iopub.status.busy": "2021-06-28T20:18:25.542714Z",
     "iopub.status.idle": "2021-06-28T20:18:25.545001Z",
     "shell.execute_reply": "2021-06-28T20:18:25.545487Z"
    },
    "papermill": {
     "duration": 0.011655,
     "end_time": "2021-06-28T20:18:25.545690",
     "exception": false,
     "start_time": "2021-06-28T20:18:25.534035",
     "status": "completed"
    },
    "tags": [
     "injected-parameters"
    ]
   },
   "outputs": [],
   "source": [
    "# Parameters\n",
    "sol = 243.5\n",
    "epsilon1 = 0.62\n",
    "epsilon2 = 0.62\n",
    "albedo = 0.65\n"
   ]
  },
  {
   "cell_type": "markdown",
   "id": "2cd91d6a",
   "metadata": {
    "papermill": {
     "duration": 0.00521,
     "end_time": "2021-06-28T20:18:25.556173",
     "exception": false,
     "start_time": "2021-06-28T20:18:25.550963",
     "status": "completed"
    },
    "tags": []
   },
   "source": [
    "## compare the two functions"
   ]
  },
  {
   "cell_type": "code",
   "execution_count": 4,
   "id": "51944938",
   "metadata": {
    "execution": {
     "iopub.execute_input": "2021-06-28T20:18:25.575771Z",
     "iopub.status.busy": "2021-06-28T20:18:25.574474Z",
     "iopub.status.idle": "2021-06-28T20:18:25.578574Z",
     "shell.execute_reply": "2021-06-28T20:18:25.579095Z"
    },
    "papermill": {
     "duration": 0.017883,
     "end_time": "2021-06-28T20:18:25.579303",
     "exception": false,
     "start_time": "2021-06-28T20:18:25.561420",
     "status": "completed"
    },
    "tags": []
   },
   "outputs": [
    {
     "name": "stdout",
     "output_type": "stream",
     "text": [
      "analytic temperatures: (231.1274559479576, 211.18458754522544, 187.19035423996536)\n",
      "numeric temperatues: (231.1274559479576, 211.18458754522544, 187.19035423996536)\n"
     ]
    }
   ],
   "source": [
    "analytic_fluxes = do_two(sol, epsilon1, albedo)\n",
    "numeric_fluxes = do_two_matrix(sol, albedo, epsilon1, epsilon2)\n",
    "print(f\"analytic temperatures: {find_temps(analytic_fluxes)}\")\n",
    "print(f\"numeric temperatues: {find_temps(numeric_fluxes)}\")"
   ]
  },
  {
   "cell_type": "code",
   "execution_count": null,
   "id": "33d4e9b7",
   "metadata": {
    "papermill": {
     "duration": 0.005281,
     "end_time": "2021-06-28T20:18:25.590263",
     "exception": false,
     "start_time": "2021-06-28T20:18:25.584982",
     "status": "completed"
    },
    "tags": []
   },
   "outputs": [],
   "source": []
  }
 ],
 "metadata": {
  "jupytext": {
   "cell_metadata_filter": "-all",
   "formats": "md:myst,ipynb,py:percent",
   "notebook_metadata_filter": "all,-language_info,-toc,-latex_envs"
  },
  "kernelspec": {
   "display_name": "Python 3",
   "language": "python",
   "name": "python3"
  },
  "language_info": {
   "codemirror_mode": {
    "name": "ipython",
    "version": 3
   },
   "file_extension": ".py",
   "mimetype": "text/x-python",
   "name": "python",
   "nbconvert_exporter": "python",
   "pygments_lexer": "ipython3",
   "version": "3.8.10"
  },
  "papermill": {
   "default_parameters": {},
   "duration": 1.69174,
   "end_time": "2021-06-28T20:18:25.910049",
   "environment_variables": {},
   "exception": null,
   "input_path": "notebooks/two_layers.ipynb",
   "output_path": "notebooks/output/unfiltered/output_two_layers1.ipynb",
   "parameters": {
    "albedo": 0.65,
    "epsilon1": 0.62,
    "epsilon2": 0.62,
    "sol": 243.5
   },
   "start_time": "2021-06-28T20:18:24.218309",
   "version": "2.3.3"
  }
 },
 "nbformat": 4,
 "nbformat_minor": 5
}