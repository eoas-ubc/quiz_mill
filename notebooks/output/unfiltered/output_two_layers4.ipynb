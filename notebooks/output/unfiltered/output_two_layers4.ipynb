{
 "cells": [
  {
   "cell_type": "markdown",
   "id": "85355d62",
   "metadata": {
    "papermill": {
     "duration": 0.006561,
     "end_time": "2021-06-28T20:18:29.702468",
     "exception": false,
     "start_time": "2021-06-28T20:18:29.695907",
     "status": "completed"
    },
    "tags": []
   },
   "source": [
    "# getting started\n",
    "\n",
    "in the quiz_mill folder, do:\n",
    "\n",
    "`pip install -e . -U`\n",
    "\n",
    "\n",
    "to install the quiz_mill package\n",
    "\n",
    "Then at the command line, create a new notebook with:\n",
    "\n",
    "`papermill -p sol 330 -p epsilon1 0.4 -p epsilon2 0.6 notebooks/two_layers.ipynb trial1.ipynb`\n"
   ]
  },
  {
   "cell_type": "code",
   "execution_count": 1,
   "id": "d48d9636",
   "metadata": {
    "execution": {
     "iopub.execute_input": "2021-06-28T20:18:29.721730Z",
     "iopub.status.busy": "2021-06-28T20:18:29.720847Z",
     "iopub.status.idle": "2021-06-28T20:18:29.860450Z",
     "shell.execute_reply": "2021-06-28T20:18:29.860962Z"
    },
    "papermill": {
     "duration": 0.152833,
     "end_time": "2021-06-28T20:18:29.861234",
     "exception": false,
     "start_time": "2021-06-28T20:18:29.708401",
     "status": "completed"
    },
    "tags": []
   },
   "outputs": [],
   "source": [
    "from quiz_mill.solve_layers import do_two, do_two_matrix, find_temps"
   ]
  },
  {
   "cell_type": "code",
   "execution_count": 2,
   "id": "19476b6f",
   "metadata": {
    "execution": {
     "iopub.execute_input": "2021-06-28T20:18:29.879231Z",
     "iopub.status.busy": "2021-06-28T20:18:29.878008Z",
     "iopub.status.idle": "2021-06-28T20:18:29.880946Z",
     "shell.execute_reply": "2021-06-28T20:18:29.881490Z"
    },
    "papermill": {
     "duration": 0.014818,
     "end_time": "2021-06-28T20:18:29.881708",
     "exception": false,
     "start_time": "2021-06-28T20:18:29.866890",
     "status": "completed"
    },
    "tags": [
     "parameters"
    ]
   },
   "outputs": [],
   "source": [
    "# Default parameters\n",
    "sol = 341.0\n",
    "epsilon1 = 0.55\n",
    "epsilon2 = 0.55\n",
    "albedo = 0.3"
   ]
  },
  {
   "cell_type": "code",
   "execution_count": 3,
   "id": "1db0f448",
   "metadata": {
    "execution": {
     "iopub.execute_input": "2021-06-28T20:18:29.894518Z",
     "iopub.status.busy": "2021-06-28T20:18:29.893454Z",
     "iopub.status.idle": "2021-06-28T20:18:29.895724Z",
     "shell.execute_reply": "2021-06-28T20:18:29.896310Z"
    },
    "papermill": {
     "duration": 0.010541,
     "end_time": "2021-06-28T20:18:29.896520",
     "exception": false,
     "start_time": "2021-06-28T20:18:29.885979",
     "status": "completed"
    },
    "tags": [
     "injected-parameters"
    ]
   },
   "outputs": [],
   "source": [
    "# Parameters\n",
    "sol = 473.2\n",
    "epsilon1 = 0.74\n",
    "epsilon2 = 0.74\n",
    "albedo = 0.54\n"
   ]
  },
  {
   "cell_type": "markdown",
   "id": "2cd91d6a",
   "metadata": {
    "papermill": {
     "duration": 0.005467,
     "end_time": "2021-06-28T20:18:29.906929",
     "exception": false,
     "start_time": "2021-06-28T20:18:29.901462",
     "status": "completed"
    },
    "tags": []
   },
   "source": [
    "## compare the two functions"
   ]
  },
  {
   "cell_type": "code",
   "execution_count": 4,
   "id": "51944938",
   "metadata": {
    "execution": {
     "iopub.execute_input": "2021-06-28T20:18:29.921886Z",
     "iopub.status.busy": "2021-06-28T20:18:29.920862Z",
     "iopub.status.idle": "2021-06-28T20:18:29.924705Z",
     "shell.execute_reply": "2021-06-28T20:18:29.924075Z"
    },
    "papermill": {
     "duration": 0.013615,
     "end_time": "2021-06-28T20:18:29.924883",
     "exception": false,
     "start_time": "2021-06-28T20:18:29.911268",
     "status": "completed"
    },
    "tags": []
   },
   "outputs": [
    {
     "name": "stdout",
     "output_type": "stream",
     "text": [
      "analytic temperatures: (302.27336560449794, 290.61418631276086, 253.03435979092876)\n",
      "numeric temperatues: (302.27336560449794, 290.61418631276086, 253.03435979092876)\n"
     ]
    }
   ],
   "source": [
    "analytic_fluxes = do_two(sol, epsilon1, albedo)\n",
    "numeric_fluxes = do_two_matrix(sol, albedo, epsilon1, epsilon2)\n",
    "print(f\"analytic temperatures: {find_temps(analytic_fluxes)}\")\n",
    "print(f\"numeric temperatues: {find_temps(numeric_fluxes)}\")"
   ]
  },
  {
   "cell_type": "code",
   "execution_count": null,
   "id": "33d4e9b7",
   "metadata": {
    "papermill": {
     "duration": 0.005783,
     "end_time": "2021-06-28T20:18:29.936387",
     "exception": false,
     "start_time": "2021-06-28T20:18:29.930604",
     "status": "completed"
    },
    "tags": []
   },
   "outputs": [],
   "source": []
  }
 ],
 "metadata": {
  "jupytext": {
   "cell_metadata_filter": "-all",
   "formats": "md:myst,ipynb,py:percent",
   "notebook_metadata_filter": "all,-language_info,-toc,-latex_envs"
  },
  "kernelspec": {
   "display_name": "Python 3",
   "language": "python",
   "name": "python3"
  },
  "language_info": {
   "codemirror_mode": {
    "name": "ipython",
    "version": 3
   },
   "file_extension": ".py",
   "mimetype": "text/x-python",
   "name": "python",
   "nbconvert_exporter": "python",
   "pygments_lexer": "ipython3",
   "version": "3.8.10"
  },
  "papermill": {
   "default_parameters": {},
   "duration": 1.398483,
   "end_time": "2021-06-28T20:18:30.257677",
   "environment_variables": {},
   "exception": null,
   "input_path": "notebooks/two_layers.ipynb",
   "output_path": "notebooks/output/unfiltered/output_two_layers4.ipynb",
   "parameters": {
    "albedo": 0.54,
    "epsilon1": 0.74,
    "epsilon2": 0.74,
    "sol": 473.2
   },
   "start_time": "2021-06-28T20:18:28.859194",
   "version": "2.3.3"
  }
 },
 "nbformat": 4,
 "nbformat_minor": 5
}