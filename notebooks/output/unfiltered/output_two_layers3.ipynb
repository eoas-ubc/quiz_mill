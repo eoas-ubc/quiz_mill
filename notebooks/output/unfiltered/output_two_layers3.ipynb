{
 "cells": [
  {
   "cell_type": "markdown",
   "id": "85355d62",
   "metadata": {
    "papermill": {
     "duration": 0.006181,
     "end_time": "2021-06-28T20:18:28.270753",
     "exception": false,
     "start_time": "2021-06-28T20:18:28.264572",
     "status": "completed"
    },
    "tags": []
   },
   "source": [
    "# getting started\n",
    "\n",
    "in the quiz_mill folder, do:\n",
    "\n",
    "`pip install -e . -U`\n",
    "\n",
    "\n",
    "to install the quiz_mill package\n",
    "\n",
    "Then at the command line, create a new notebook with:\n",
    "\n",
    "`papermill -p sol 330 -p epsilon1 0.4 -p epsilon2 0.6 notebooks/two_layers.ipynb trial1.ipynb`\n"
   ]
  },
  {
   "cell_type": "code",
   "execution_count": 1,
   "id": "d48d9636",
   "metadata": {
    "execution": {
     "iopub.execute_input": "2021-06-28T20:18:28.296239Z",
     "iopub.status.busy": "2021-06-28T20:18:28.295507Z",
     "iopub.status.idle": "2021-06-28T20:18:28.434268Z",
     "shell.execute_reply": "2021-06-28T20:18:28.433619Z"
    },
    "papermill": {
     "duration": 0.155443,
     "end_time": "2021-06-28T20:18:28.434461",
     "exception": false,
     "start_time": "2021-06-28T20:18:28.279018",
     "status": "completed"
    },
    "tags": []
   },
   "outputs": [],
   "source": [
    "from quiz_mill.solve_layers import do_two, do_two_matrix, find_temps"
   ]
  },
  {
   "cell_type": "code",
   "execution_count": 2,
   "id": "19476b6f",
   "metadata": {
    "execution": {
     "iopub.execute_input": "2021-06-28T20:18:28.450464Z",
     "iopub.status.busy": "2021-06-28T20:18:28.449619Z",
     "iopub.status.idle": "2021-06-28T20:18:28.451848Z",
     "shell.execute_reply": "2021-06-28T20:18:28.452350Z"
    },
    "papermill": {
     "duration": 0.013509,
     "end_time": "2021-06-28T20:18:28.452553",
     "exception": false,
     "start_time": "2021-06-28T20:18:28.439044",
     "status": "completed"
    },
    "tags": [
     "parameters"
    ]
   },
   "outputs": [],
   "source": [
    "# Default parameters\n",
    "sol = 341.0\n",
    "epsilon1 = 0.55\n",
    "epsilon2 = 0.55\n",
    "albedo = 0.3"
   ]
  },
  {
   "cell_type": "code",
   "execution_count": 3,
   "id": "9af989a8",
   "metadata": {
    "execution": {
     "iopub.execute_input": "2021-06-28T20:18:28.469196Z",
     "iopub.status.busy": "2021-06-28T20:18:28.468360Z",
     "iopub.status.idle": "2021-06-28T20:18:28.470740Z",
     "shell.execute_reply": "2021-06-28T20:18:28.471216Z"
    },
    "papermill": {
     "duration": 0.012066,
     "end_time": "2021-06-28T20:18:28.471449",
     "exception": false,
     "start_time": "2021-06-28T20:18:28.459383",
     "status": "completed"
    },
    "tags": [
     "injected-parameters"
    ]
   },
   "outputs": [],
   "source": [
    "# Parameters\n",
    "sol = 487.2\n",
    "epsilon1 = 0.31\n",
    "epsilon2 = 0.31\n",
    "albedo = 0.46\n"
   ]
  },
  {
   "cell_type": "markdown",
   "id": "2cd91d6a",
   "metadata": {
    "papermill": {
     "duration": 0.005249,
     "end_time": "2021-06-28T20:18:28.482119",
     "exception": false,
     "start_time": "2021-06-28T20:18:28.476870",
     "status": "completed"
    },
    "tags": []
   },
   "source": [
    "## compare the two functions"
   ]
  },
  {
   "cell_type": "code",
   "execution_count": 4,
   "id": "51944938",
   "metadata": {
    "execution": {
     "iopub.execute_input": "2021-06-28T20:18:28.496420Z",
     "iopub.status.busy": "2021-06-28T20:18:28.495516Z",
     "iopub.status.idle": "2021-06-28T20:18:28.498792Z",
     "shell.execute_reply": "2021-06-28T20:18:28.499298Z"
    },
    "papermill": {
     "duration": 0.013549,
     "end_time": "2021-06-28T20:18:28.499501",
     "exception": false,
     "start_time": "2021-06-28T20:18:28.485952",
     "status": "completed"
    },
    "tags": []
   },
   "outputs": [
    {
     "name": "stdout",
     "output_type": "stream",
     "text": [
      "analytic temperatures: (282.2024721610289, 212.19023509876183, 198.33874919605643)\n",
      "numeric temperatues: (282.2024721610289, 212.19023509876183, 198.33874919605645)\n"
     ]
    }
   ],
   "source": [
    "analytic_fluxes = do_two(sol, epsilon1, albedo)\n",
    "numeric_fluxes = do_two_matrix(sol, albedo, epsilon1, epsilon2)\n",
    "print(f\"analytic temperatures: {find_temps(analytic_fluxes)}\")\n",
    "print(f\"numeric temperatues: {find_temps(numeric_fluxes)}\")"
   ]
  },
  {
   "cell_type": "code",
   "execution_count": null,
   "id": "33d4e9b7",
   "metadata": {
    "papermill": {
     "duration": 0.005481,
     "end_time": "2021-06-28T20:18:28.509940",
     "exception": false,
     "start_time": "2021-06-28T20:18:28.504459",
     "status": "completed"
    },
    "tags": []
   },
   "outputs": [],
   "source": []
  }
 ],
 "metadata": {
  "jupytext": {
   "cell_metadata_filter": "-all",
   "formats": "md:myst,ipynb,py:percent",
   "notebook_metadata_filter": "all,-language_info,-toc,-latex_envs"
  },
  "kernelspec": {
   "display_name": "Python 3",
   "language": "python",
   "name": "python3"
  },
  "language_info": {
   "codemirror_mode": {
    "name": "ipython",
    "version": 3
   },
   "file_extension": ".py",
   "mimetype": "text/x-python",
   "name": "python",
   "nbconvert_exporter": "python",
   "pygments_lexer": "ipython3",
   "version": "3.8.10"
  },
  "papermill": {
   "default_parameters": {},
   "duration": 1.353957,
   "end_time": "2021-06-28T20:18:28.835832",
   "environment_variables": {},
   "exception": null,
   "input_path": "notebooks/two_layers.ipynb",
   "output_path": "notebooks/output/unfiltered/output_two_layers3.ipynb",
   "parameters": {
    "albedo": 0.46,
    "epsilon1": 0.31,
    "epsilon2": 0.31,
    "sol": 487.2
   },
   "start_time": "2021-06-28T20:18:27.481875",
   "version": "2.3.3"
  }
 },
 "nbformat": 4,
 "nbformat_minor": 5
}