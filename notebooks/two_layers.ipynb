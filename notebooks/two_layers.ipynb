{
 "cells": [
  {
   "cell_type": "code",
   "execution_count": 1,
   "id": "d20c8c85",
   "metadata": {},
   "outputs": [],
   "source": [
    "\"\"\"\n",
    "   This notebook solves two equations in two unknowns to find the equilibrium\n",
    "   radiative balance in a two layer atmosphere over a black ground surface\n",
    "   \n",
    "   ---------------\n",
    "   abs2\n",
    "   ---------------\n",
    "   abs1\n",
    "   ---------------\n",
    "   _______________________  Fg\n",
    "   \n",
    "   layers.py provides two functions:\n",
    "      do_two(Sol=341.,epsilon=0.55,albedo=0.3)\n",
    "         -- this solves the two layer model analytically\n",
    "\n",
    "      do_two_matrix(Sol=341.,albedo=0.3,epsilon1=0.55,epsilon2=0.55)         \n",
    "          -- this solves the two layer model numerically\n",
    "\"\"\"\n",
    "import numpy as np\n",
    "from scipy import linalg"
   ]
  },
  {
   "cell_type": "code",
   "execution_count": null,
   "id": "85fa4fa3",
   "metadata": {
    "tags": [
     "parameters"
    ]
   },
   "outputs": [],
   "source": [
    "# Default parameters\n",
    "sol = 341.0\n",
    "epsilon1 = 0.55\n",
    "epsilon2 = 0.55\n",
    "albedo = 0.3"
   ]
  },
  {
   "cell_type": "code",
   "execution_count": 6,
   "id": "27155da5",
   "metadata": {
    "lines_to_next_cell": 1
   },
   "outputs": [],
   "source": [
    "def do_two(Sol=341.0, epsilon=0.55, albedo=0.3):\n",
    "    \"\"\"\n",
    "\n",
    "    Calculate equlibrium fluxes for a two-layer atmosphere\n",
    "\n",
    "     Parameters\n",
    "     ----------\n",
    "\n",
    "     Sol: float\n",
    "          day/night averaged TOA shortwave flux (W/m^2)\n",
    "     epsilon: float\n",
    "           longwave emissivity of layers 1 and 2\n",
    "     albedo: float\n",
    "           shortwave reflectivity of surface\n",
    "\n",
    "     Returns\n",
    "     -------\n",
    "\n",
    "     fluxes: tuple\n",
    "        (Fg,F1,F2) -- equilibrium fluxes for ground, layer1, layer2 (W/m^2)\n",
    "\n",
    "\n",
    "    \"\"\"\n",
    "    Fg = (\n",
    "        (1 - albedo)\n",
    "        * Sol\n",
    "        / (\n",
    "            1\n",
    "            - epsilon\n",
    "            / 2\n",
    "            * (1 + epsilon * (1 - epsilon) / 2)\n",
    "            / (1 - epsilon * epsilon / 4)\n",
    "            - (1 - epsilon)\n",
    "            * epsilon\n",
    "            / 2\n",
    "            * ((1 - epsilon) + epsilon / 2)\n",
    "            / (1 - epsilon * epsilon / 4)\n",
    "        )\n",
    "    )\n",
    "    F2 = Fg * epsilon / 2 * ((1 - epsilon) + epsilon / 2) / (1 - epsilon * epsilon / 4)\n",
    "    F1 = (\n",
    "        Fg\n",
    "        * epsilon\n",
    "        / 2\n",
    "        * (1 + epsilon * (1 - epsilon) / 2)\n",
    "        / (1 - epsilon * epsilon / 4)\n",
    "    )\n",
    "    # check balances\n",
    "    TOA = Sol * (1 - albedo) - F2 - (1 - epsilon) * F1 - (1 - epsilon) ** 2.0 * Fg\n",
    "    Lay1 = Sol * (1 - albedo) + F2 - F1 - (1 - epsilon) * Fg\n",
    "    Ground = Sol * (1 - albedo) + F1 + (1 - epsilon) * F2 - Fg\n",
    "    fluxes = (Fg, F1, F2)\n",
    "    return fluxes"
   ]
  },
  {
   "cell_type": "code",
   "execution_count": 7,
   "id": "f0a3562a",
   "metadata": {
    "lines_to_next_cell": 1
   },
   "outputs": [],
   "source": [
    "def do_two_matrix(Sol=341.0, albedo=0.3, epsilon1=0.55, epsilon2=0.55):\n",
    "    \"\"\"\n",
    "     do_two_matrix(Sol=341.,albedo=0.3,epsilon1=0.55,epsilon2=0.55)\n",
    "     returns [Fg,F1,F2]   -- layer fluxes in W/m^2\n",
    "\n",
    "    Calculate equlibrium fluxes for a two-layer atmosphere\n",
    "\n",
    "     Parameters\n",
    "     ----------\n",
    "\n",
    "     Sol: float\n",
    "          day/night averaged TOA shortwave flux (W/m^2)\n",
    "     epsilon1: float\n",
    "           longwave emissivity for layer 1\n",
    "     epsilon2: float\n",
    "           longwave emissivity for layer 2\n",
    "     albedo: float\n",
    "           shortwave reflectivity of surface\n",
    "\n",
    "     Returns\n",
    "     -------\n",
    "\n",
    "     fluxes: numpy verctor\n",
    "        (Fg,F1,F2) -- equilibrium fluxes for ground, layer1, layer2\n",
    "\n",
    "\n",
    "    \"\"\"\n",
    "    Sol = Sol * (1 - albedo)\n",
    "    abs1 = epsilon1\n",
    "    abs2 = epsilon2\n",
    "    Tr1 = 1.0 - abs1\n",
    "    Tr2 = 1.0 - abs2\n",
    "    # layer 2 budget\n",
    "    # dF2/dt = abs2*Tr1*Fg + abs2*F1 - 2*F2\n",
    "    # layer 1 budget\n",
    "    # dF1/dt = abs1*Fg - 2*F1 + abs1*F2\n",
    "    # Ground budget\n",
    "    # dFg/dt = Sol - Fg + F1 + Tr1*F2\n",
    "    the_array = [[abs2 * Tr1, abs2, -2.0], [abs1, -2.0, abs1], [-1.0, 1.0, Tr1]]\n",
    "    the_array = np.array(the_array)\n",
    "    rhs = [0, 0, -Sol]\n",
    "    the_inv = linalg.inv(the_array)\n",
    "    fluxes = the_inv @ rhs\n",
    "    return fluxes"
   ]
  },
  {
   "cell_type": "code",
   "execution_count": 8,
   "id": "1c725b1f",
   "metadata": {
    "lines_to_next_cell": 1
   },
   "outputs": [],
   "source": [
    "def find_temps(fluxes, epsilon1=0.55, epsilon2=0.55):\n",
    "\n",
    "    \"\"\"\n",
    "    Given a set of fluxes and the layer emissivities, find\n",
    "    the kinetic temperature for each layer and the ground\n",
    "\n",
    "    find_temps(fluxes,epsilon1=0.55,epsilon2=0.55)\n",
    "    fluxes=(Fg,F1,F2)\n",
    "    returns (Tg,T1,T2)\n",
    "    \"\"\"\n",
    "    sigma = 5.67e-8  # W/m^2/K^4\n",
    "    Tg = (fluxes[0] / sigma) ** 0.25\n",
    "    T1 = (fluxes[1] / (sigma * epsilon1)) ** 0.25\n",
    "    T2 = (fluxes[2] / (sigma * epsilon2)) ** 0.25\n",
    "    return (Tg, T1, T2)"
   ]
  },
  {
   "cell_type": "markdown",
   "id": "be224f3e",
   "metadata": {},
   "source": [
    "## compare the two functions"
   ]
  },
  {
   "cell_type": "code",
   "execution_count": 9,
   "id": "7236cf8c",
   "metadata": {},
   "outputs": [
    {
     "name": "stdout",
     "output_type": "stream",
     "text": [
      "analytic temperatures: (293.33263571993945, 259.00506914956225, 232.12682940949196)\n",
      "numeric temperatues: (293.33263571993945, 259.00506914956225, 232.126829409492)\n"
     ]
    }
   ],
   "source": [
    "analytic_fluxes = do_two(sol, epsilon1, albedo)\n",
    "numeric_fluxes = do_two_matrix(sol, albedo, epsilon1, epsilon2)\n",
    "print(f\"analytic temperatures: {find_temps(analytic_fluxes)}\")\n",
    "print(f\"numeric temperatues: {find_temps(numeric_fluxes)}\")"
   ]
  },
  {
   "cell_type": "code",
   "execution_count": null,
   "id": "b7912f82",
   "metadata": {},
   "outputs": [],
   "source": []
  }
 ],
 "metadata": {
  "celltoolbar": "Tags",
  "jupytext": {
   "cell_metadata_filter": "-all",
   "formats": "md:myst,ipynb,py:percent",
   "notebook_metadata_filter": "all,-language_info,-toc,-latex_envs"
  },
  "kernelspec": {
   "display_name": "Python 3",
   "language": "python",
   "name": "python3"
  },
  "language_info": {
   "codemirror_mode": {
    "name": "ipython",
    "version": 3
   },
   "file_extension": ".py",
   "mimetype": "text/x-python",
   "name": "python",
   "nbconvert_exporter": "python",
   "pygments_lexer": "ipython3",
   "version": "3.8.10"
  }
 },
 "nbformat": 4,
 "nbformat_minor": 5
}
