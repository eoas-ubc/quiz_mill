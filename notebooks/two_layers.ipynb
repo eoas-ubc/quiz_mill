{
 "cells": [
  {
   "cell_type": "markdown",
   "id": "12106995",
   "metadata": {},
   "source": [
    "# getting started\n",
    "\n",
    "in the quiz_mill folder, do:\n",
    "\n",
    "`pip install -e . -U`\n",
    "\n",
    "\n",
    "to install the quiz_mill package\n",
    "\n",
    "Then at the command line, create a new notebook with:\n",
    "\n"
   ]
  },
  {
   "cell_type": "code",
   "execution_count": 7,
   "id": "d48d9636",
   "metadata": {},
   "outputs": [],
   "source": [
    "from quiz_mill.solve_layers import do_two, do_two_matrix, find_temps"
   ]
  },
  {
   "cell_type": "code",
   "execution_count": 3,
   "id": "19476b6f",
   "metadata": {
    "tags": [
     "parameters"
    ]
   },
   "outputs": [],
   "source": [
    "# Default parameters\n",
    "sol = 341.0\n",
    "epsilon1 = 0.55\n",
    "epsilon2 = 0.55\n",
    "albedo = 0.3"
   ]
  },
  {
   "cell_type": "markdown",
   "id": "2cd91d6a",
   "metadata": {},
   "source": [
    "## compare the two functions"
   ]
  },
  {
   "cell_type": "code",
   "execution_count": 4,
   "id": "51944938",
   "metadata": {},
   "outputs": [
    {
     "name": "stdout",
     "output_type": "stream",
     "text": [
      "analytic temperatures: (293.33263571993945, 259.00506914956225, 232.12682940949196)\n",
      "numeric temperatues: (293.33263571993945, 259.00506914956225, 232.126829409492)\n"
     ]
    }
   ],
   "source": [
    "analytic_fluxes = do_two(sol, epsilon1, albedo)\n",
    "numeric_fluxes = do_two_matrix(sol, albedo, epsilon1, epsilon2)\n",
    "print(f\"analytic temperatures: {find_temps(analytic_fluxes)}\")\n",
    "print(f\"numeric temperatues: {find_temps(numeric_fluxes)}\")"
   ]
  },
  {
   "cell_type": "code",
   "execution_count": null,
   "id": "33d4e9b7",
   "metadata": {},
   "outputs": [],
   "source": []
  }
 ],
 "metadata": {
  "jupytext": {
   "cell_metadata_filter": "-all",
   "formats": "md:myst,ipynb,py:percent",
   "notebook_metadata_filter": "all,-language_info,-toc,-latex_envs"
  },
  "kernelspec": {
   "display_name": "Python 3",
   "language": "python",
   "name": "python3"
  },
  "language_info": {
   "codemirror_mode": {
    "name": "ipython",
    "version": 3
   },
   "file_extension": ".py",
   "mimetype": "text/x-python",
   "name": "python",
   "nbconvert_exporter": "python",
   "pygments_lexer": "ipython3",
   "version": "3.8.10"
  }
 },
 "nbformat": 4,
 "nbformat_minor": 5
}
